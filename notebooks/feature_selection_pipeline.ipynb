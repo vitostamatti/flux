{
 "cells": [
  {
   "cell_type": "markdown",
   "metadata": {},
   "source": [
    "### Pipeline Regresion"
   ]
  },
  {
   "cell_type": "code",
   "execution_count": 25,
   "metadata": {},
   "outputs": [],
   "source": [
    "import pandas as pd\n",
    "import numpy as np\n",
    "from wrangler import Wrangler\n",
    "from wrangler.data import PandasDataset, CSVDataset\n",
    "import wrangler.transformers as tr\n",
    "import wrangler.transformers.text as text_tr\n",
    "import wrangler.transformers.ml as ml_tr\n",
    "from wrangler import logger as wrangler_logger\n",
    "\n",
    "from sklearn.datasets import make_classification, make_regression\n",
    "from sklearn.linear_model import LinearRegression, ElasticNet, LogisticRegression\n",
    "from sklearn.ensemble import RandomForestClassifier, RandomForestRegressor\n",
    "\n",
    "wrangler_logger.enable()"
   ]
  },
  {
   "cell_type": "code",
   "execution_count": 26,
   "metadata": {},
   "outputs": [],
   "source": [
    "## Definir input\n",
    "## Definir los distintos metodos de seleccion\n",
    "## Definir el modelo de prediccion a utilizar\n",
    "## Agrupar los resultados de cada metodo.\n",
    "## Seleccionar y Guardar el mejor metodo."
   ]
  },
  {
   "cell_type": "code",
   "execution_count": 27,
   "metadata": {},
   "outputs": [],
   "source": [
    "X_reg, y_reg = make_regression(\n",
    "    n_samples=1000, \n",
    "    n_features=10,\n",
    "    n_informative=5, \n",
    "    random_state=45\n",
    ")\n",
    "X_reg = pd.DataFrame(X_reg, columns=[f\"feature_{i}\" for i in range(X_reg.shape[1])])\n",
    "y_reg = pd.DataFrame(y_reg, columns=['target'])"
   ]
  },
  {
   "cell_type": "code",
   "execution_count": 28,
   "metadata": {},
   "outputs": [
    {
     "name": "stderr",
     "output_type": "stream",
     "text": [
      "2022-02-22 at 17:45:31 | INFO | catalog | Adding dataset: intermediate\n"
     ]
    }
   ],
   "source": [
    "wrangler = Wrangler()"
   ]
  },
  {
   "cell_type": "code",
   "execution_count": 29,
   "metadata": {},
   "outputs": [],
   "source": [
    "X_ds = PandasDataset('X', X_reg)\n",
    "y_ds = PandasDataset(\"y\", y_reg)"
   ]
  },
  {
   "cell_type": "code",
   "execution_count": 30,
   "metadata": {},
   "outputs": [
    {
     "name": "stderr",
     "output_type": "stream",
     "text": [
      "2022-02-22 at 17:45:32 | INFO | catalog | Adding dataset: X\n",
      "2022-02-22 at 17:45:32 | INFO | catalog | Adding dataset: y\n"
     ]
    }
   ],
   "source": [
    "wrangler.add_dataset(X_ds)\n",
    "wrangler.add_dataset(y_ds)"
   ]
  },
  {
   "cell_type": "code",
   "execution_count": 31,
   "metadata": {},
   "outputs": [],
   "source": [
    "# wrangler.data_catalog.load(\"X\")"
   ]
  },
  {
   "cell_type": "code",
   "execution_count": 32,
   "metadata": {},
   "outputs": [
    {
     "name": "stderr",
     "output_type": "stream",
     "text": [
      "2022-02-22 at 17:45:32 | INFO | pipeline | Node correlation_selector added to Pipeline \n"
     ]
    }
   ],
   "source": [
    "wrangler.add_node(\n",
    "    name='correlation_selector',\n",
    "    transformer=ml_tr.CorrelationFeatureSelector(threshold=0.2),\n",
    "    inputs=['X','y'],\n",
    "    outputs=['X_correlation']\n",
    ")"
   ]
  },
  {
   "cell_type": "code",
   "execution_count": 33,
   "metadata": {},
   "outputs": [
    {
     "name": "stderr",
     "output_type": "stream",
     "text": [
      "2022-02-22 at 17:45:32 | INFO | pipeline | Node rfe_selector added to Pipeline \n"
     ]
    }
   ],
   "source": [
    "\n",
    "wrangler.add_node(\n",
    "    name='rfe_selector',\n",
    "    transformer=ml_tr.RFEFeatureSelector(n_features=5, estimator=LinearRegression()),\n",
    "    inputs=['X','y'],\n",
    "    outputs=['X_rfe']\n",
    ")"
   ]
  },
  {
   "cell_type": "code",
   "execution_count": 34,
   "metadata": {},
   "outputs": [
    {
     "name": "stderr",
     "output_type": "stream",
     "text": [
      "2022-02-22 at 17:45:33 | INFO | pipeline | Node kbest_selector added to Pipeline \n"
     ]
    }
   ],
   "source": [
    "\n",
    "wrangler.add_node(\n",
    "    name='kbest_selector',\n",
    "    transformer=ml_tr.KBestFeatureSelectorRegression(n_features=5),\n",
    "    inputs=['X','y'],\n",
    "    outputs=['X_kbest']\n",
    ")"
   ]
  },
  {
   "cell_type": "code",
   "execution_count": 35,
   "metadata": {},
   "outputs": [
    {
     "name": "stderr",
     "output_type": "stream",
     "text": [
      "2022-02-22 at 17:45:33 | INFO | pipeline | Node seq_selector added to Pipeline \n"
     ]
    }
   ],
   "source": [
    "wrangler.add_node(\n",
    "    name='seq_selector',\n",
    "    transformer=ml_tr.BackwardForwardFeatureSelector(\n",
    "        n_features=5, \n",
    "        estimator=LinearRegression()\n",
    "    ),\n",
    "    inputs=['X','y'],\n",
    "    outputs=['X_seq']\n",
    ")"
   ]
  },
  {
   "cell_type": "code",
   "execution_count": 36,
   "metadata": {},
   "outputs": [
    {
     "name": "stderr",
     "output_type": "stream",
     "text": [
      "2022-02-22 at 17:45:33 | INFO | pipeline | Node vif_selector added to Pipeline \n"
     ]
    }
   ],
   "source": [
    "wrangler.add_node(\n",
    "    name='vif_selector',\n",
    "    transformer=ml_tr.VIFFeatureSelector(threshold=2),\n",
    "    inputs=['X','y'],\n",
    "    outputs=['X_vif']\n",
    ")"
   ]
  },
  {
   "cell_type": "code",
   "execution_count": 37,
   "metadata": {},
   "outputs": [
    {
     "name": "stderr",
     "output_type": "stream",
     "text": [
      "2022-02-22 at 17:45:33 | INFO | pipeline | Node from_model_selector added to Pipeline \n"
     ]
    }
   ],
   "source": [
    "wrangler.add_node(\n",
    "    name='from_model_selector',\n",
    "    transformer=ml_tr.FromModelFeatureSelector(n_features=5, estimator=ElasticNet()),\n",
    "    inputs=['X','y'],\n",
    "    outputs=['X_from_model']\n",
    ")"
   ]
  },
  {
   "cell_type": "code",
   "execution_count": 38,
   "metadata": {},
   "outputs": [
    {
     "name": "stderr",
     "output_type": "stream",
     "text": [
      "2022-02-22 at 17:45:33 | INFO | pipeline | Node model_full added to Pipeline \n"
     ]
    }
   ],
   "source": [
    "wrangler.add_node(\n",
    "    name='model_full',\n",
    "    transformer=ml_tr.SklearnModelTransformer(name='rf_clf', model=RandomForestRegressor(n_estimators=200)),\n",
    "    inputs=['X','y'],\n",
    "    outputs=['y_full']\n",
    ")"
   ]
  },
  {
   "cell_type": "code",
   "execution_count": 39,
   "metadata": {},
   "outputs": [
    {
     "name": "stderr",
     "output_type": "stream",
     "text": [
      "2022-02-22 at 17:45:34 | INFO | pipeline | Node model_corr added to Pipeline \n"
     ]
    }
   ],
   "source": [
    "\n",
    "wrangler.add_node(\n",
    "    name='model_corr',\n",
    "    transformer=ml_tr.SklearnModelTransformer(name='rf_corr', model=RandomForestRegressor(n_estimators=200)),\n",
    "    inputs=['X_correlation','y'],\n",
    "    outputs=['y_correlation']\n",
    ")"
   ]
  },
  {
   "cell_type": "code",
   "execution_count": 40,
   "metadata": {},
   "outputs": [
    {
     "name": "stderr",
     "output_type": "stream",
     "text": [
      "2022-02-22 at 17:45:34 | INFO | pipeline | Node model_rfe added to Pipeline \n"
     ]
    }
   ],
   "source": [
    "wrangler.add_node(\n",
    "    name='model_rfe',\n",
    "    transformer=ml_tr.SklearnModelTransformer(name='rf_rfe', model=RandomForestRegressor(n_estimators=200)),\n",
    "    inputs=['X_rfe','y'],\n",
    "    outputs=['y_rfe']\n",
    ")"
   ]
  },
  {
   "cell_type": "code",
   "execution_count": 41,
   "metadata": {},
   "outputs": [
    {
     "name": "stderr",
     "output_type": "stream",
     "text": [
      "2022-02-22 at 17:45:34 | INFO | pipeline | Node model_kbest added to Pipeline \n"
     ]
    }
   ],
   "source": [
    "wrangler.add_node(\n",
    "    name='model_kbest',\n",
    "    transformer=ml_tr.SklearnModelTransformer(name='rf_kbest', model=RandomForestRegressor(n_estimators=200)),\n",
    "    inputs=['X_kbest','y'],\n",
    "    outputs=['y_kbest']\n",
    ")"
   ]
  },
  {
   "cell_type": "code",
   "execution_count": 42,
   "metadata": {},
   "outputs": [
    {
     "name": "stderr",
     "output_type": "stream",
     "text": [
      "2022-02-22 at 17:45:35 | INFO | pipeline | Node model_seq added to Pipeline \n"
     ]
    }
   ],
   "source": [
    "wrangler.add_node(\n",
    "    name='model_seq',\n",
    "    transformer=ml_tr.SklearnModelTransformer(name='rf_seq', model=RandomForestRegressor(n_estimators=200)),\n",
    "    inputs=['X_seq','y'],\n",
    "    outputs=['y_seq']\n",
    ")"
   ]
  },
  {
   "cell_type": "code",
   "execution_count": 43,
   "metadata": {},
   "outputs": [
    {
     "name": "stderr",
     "output_type": "stream",
     "text": [
      "2022-02-22 at 17:45:35 | INFO | pipeline | Node model_vif added to Pipeline \n"
     ]
    }
   ],
   "source": [
    "wrangler.add_node(\n",
    "    name='model_vif',\n",
    "    transformer=ml_tr.SklearnModelTransformer(name='rf_vif', model=RandomForestRegressor(n_estimators=200)),\n",
    "    inputs=['X_vif','y'],\n",
    "    outputs=['y_vif']\n",
    ")"
   ]
  },
  {
   "cell_type": "code",
   "execution_count": 44,
   "metadata": {},
   "outputs": [
    {
     "name": "stderr",
     "output_type": "stream",
     "text": [
      "2022-02-22 at 17:45:36 | INFO | pipeline | Node model_from_model added to Pipeline \n"
     ]
    }
   ],
   "source": [
    "wrangler.add_node(\n",
    "    name='model_from_model',\n",
    "    transformer=ml_tr.SklearnModelTransformer(name='rf_from_model', model=RandomForestRegressor(n_estimators=200)),\n",
    "    inputs=['X_from_model','y'],\n",
    "    outputs=['y_from_model']\n",
    ")"
   ]
  },
  {
   "cell_type": "code",
   "execution_count": 45,
   "metadata": {},
   "outputs": [
    {
     "name": "stderr",
     "output_type": "stream",
     "text": [
      "2022-02-22 at 17:45:36 | INFO | pipeline | Node evaluate_vif added to Pipeline \n"
     ]
    }
   ],
   "source": [
    "\n",
    "wrangler.add_node(\n",
    "    name='evaluate_vif',\n",
    "    transformer=ml_tr.RegressionModelEvaluator(model=RandomForestRegressor(n_estimators=200), name='rf_vif'),\n",
    "    inputs=['X_vif','y'],\n",
    "    outputs=['results_vif']\n",
    ")"
   ]
  },
  {
   "cell_type": "code",
   "execution_count": 46,
   "metadata": {},
   "outputs": [
    {
     "name": "stderr",
     "output_type": "stream",
     "text": [
      "2022-02-22 at 17:45:37 | INFO | pipeline | Node evaluate_kbest added to Pipeline \n"
     ]
    }
   ],
   "source": [
    "wrangler.add_node(\n",
    "    name='evaluate_kbest',\n",
    "    transformer=ml_tr.RegressionModelEvaluator(model=RandomForestRegressor(n_estimators=200), name='rf_kbest'),\n",
    "    inputs=['X_kbest','y'],\n",
    "    outputs=['results_kbest']\n",
    ")"
   ]
  },
  {
   "cell_type": "code",
   "execution_count": 47,
   "metadata": {},
   "outputs": [
    {
     "name": "stderr",
     "output_type": "stream",
     "text": [
      "2022-02-22 at 17:45:37 | INFO | pipeline | Node evaluate_seq added to Pipeline \n"
     ]
    }
   ],
   "source": [
    "wrangler.add_node(\n",
    "    name='evaluate_seq',\n",
    "    transformer=ml_tr.RegressionModelEvaluator(model=RandomForestRegressor(n_estimators=200), name='rf_seq'),\n",
    "    inputs=['X_seq','y'],\n",
    "    outputs=['results_seq']\n",
    ")"
   ]
  },
  {
   "cell_type": "code",
   "execution_count": 48,
   "metadata": {},
   "outputs": [
    {
     "name": "stderr",
     "output_type": "stream",
     "text": [
      "2022-02-22 at 17:45:38 | INFO | pipeline | Node evaluate_rfe added to Pipeline \n"
     ]
    }
   ],
   "source": [
    "wrangler.add_node(\n",
    "    name='evaluate_rfe',\n",
    "    transformer=ml_tr.RegressionModelEvaluator(model=RandomForestRegressor(n_estimators=200), name='rf_rfe'),\n",
    "    inputs=['X_rfe','y'],\n",
    "    outputs=['results_rfe']\n",
    ")"
   ]
  },
  {
   "cell_type": "code",
   "execution_count": 49,
   "metadata": {},
   "outputs": [
    {
     "name": "stderr",
     "output_type": "stream",
     "text": [
      "2022-02-22 at 17:45:38 | INFO | pipeline | Node evaluate_from_model added to Pipeline \n"
     ]
    }
   ],
   "source": [
    "wrangler.add_node(\n",
    "    name='evaluate_from_model',\n",
    "    transformer=ml_tr.RegressionModelEvaluator(model=RandomForestRegressor(n_estimators=200), name='rf_from_model'),\n",
    "    inputs=['X_from_model','y'],\n",
    "    outputs=['results_from_model']\n",
    ")"
   ]
  },
  {
   "cell_type": "code",
   "execution_count": 50,
   "metadata": {},
   "outputs": [
    {
     "name": "stderr",
     "output_type": "stream",
     "text": [
      "2022-02-22 at 17:45:39 | INFO | pipeline | Node evaluate_correlation added to Pipeline \n"
     ]
    }
   ],
   "source": [
    "wrangler.add_node(\n",
    "    name='evaluate_correlation',\n",
    "    transformer=ml_tr.RegressionModelEvaluator(model=RandomForestRegressor(n_estimators=200), name='rf_corr'),\n",
    "    inputs=['X_correlation','y'],\n",
    "    outputs=['results_from_model']\n",
    ")"
   ]
  },
  {
   "cell_type": "code",
   "execution_count": 51,
   "metadata": {},
   "outputs": [
    {
     "name": "stderr",
     "output_type": "stream",
     "text": [
      "2022-02-22 at 17:45:40 | INFO | pipeline | Node evaluate_nothing added to Pipeline \n"
     ]
    }
   ],
   "source": [
    "\n",
    "wrangler.add_node(\n",
    "    name='evaluate_nothing',\n",
    "    transformer=ml_tr.RegressionModelEvaluator(model=RandomForestRegressor(n_estimators=200), name='rf'),\n",
    "    inputs=['X','y'],\n",
    "    outputs=['results_nothing']\n",
    ")"
   ]
  },
  {
   "cell_type": "code",
   "execution_count": 22,
   "metadata": {},
   "outputs": [],
   "source": [
    "# def concat_predictions(y_full, y_correlation, y_rfe, y_kbest, y_seq, y_vif, y_from_model):\n",
    "#     pd.concat([y_full, y_correlation, y_rfe, y_kbest, y_seq, y_vif, y_from_model])\n",
    "\n",
    "# wrangler.add_node(\n",
    "#     name='join_predictions',\n",
    "#     transformer=tr.DataframeTransformer(function=concat_predictions),\n",
    "#     inputs=[],\n",
    "#     outputs=[]\n",
    "# )"
   ]
  },
  {
   "cell_type": "code",
   "execution_count": 52,
   "metadata": {},
   "outputs": [
    {
     "name": "stderr",
     "output_type": "stream",
     "text": [
      "2022-02-22 at 17:45:43 | INFO | node | Running Node: correlation_selector\n",
      "2022-02-22 at 17:45:43 | INFO | base | Loading PandasDataset(name='X', data=DataFrame)\n",
      "2022-02-22 at 17:45:43 | INFO | base | Loading PandasDataset(name='y', data=DataFrame)\n",
      "2022-02-22 at 17:45:43 | DEBUG | base | Fitting CorrelationFeatureSelector(threshold=0.2)\n",
      "2022-02-22 at 17:45:43 | DEBUG | base | Transforming CorrelationFeatureSelector(threshold=0.2, selected_features=['feature_0', 'feature_3', 'feature_5'])\n",
      "2022-02-22 at 17:45:43 | INFO | catalog | Adding dataset: X_correlation\n",
      "2022-02-22 at 17:45:43 | INFO | node | Running Node: rfe_selector\n",
      "2022-02-22 at 17:45:43 | INFO | base | Loading PandasDataset(name='X', data=DataFrame)\n",
      "2022-02-22 at 17:45:43 | INFO | base | Loading PandasDataset(name='y', data=DataFrame)\n",
      "2022-02-22 at 17:45:43 | DEBUG | base | Fitting RFEFeatureSelector(n_features=5, estimator=LinearRegression)\n",
      "2022-02-22 at 17:45:43 | DEBUG | base | Transforming RFEFeatureSelector(n_features=5, estimator=LinearRegression, selected_features=['feature_0', 'feature_3', 'feature_5', 'feature_8', 'feature_9'])\n",
      "2022-02-22 at 17:45:43 | INFO | catalog | Adding dataset: X_rfe\n",
      "2022-02-22 at 17:45:43 | INFO | node | Running Node: kbest_selector\n",
      "2022-02-22 at 17:45:43 | INFO | base | Loading PandasDataset(name='X', data=DataFrame)\n",
      "2022-02-22 at 17:45:43 | INFO | base | Loading PandasDataset(name='y', data=DataFrame)\n",
      "2022-02-22 at 17:45:43 | DEBUG | base | Fitting KBestFeatureSelectorRegression(n_features=5)\n"
     ]
    },
    {
     "name": "stdout",
     "output_type": "stream",
     "text": [
      "Features selected by Correlation: ['feature_0', 'feature_3', 'feature_5'] \n",
      "\n",
      "Features selected by RFE: ['feature_0', 'feature_3', 'feature_5', 'feature_8', 'feature_9'] \n",
      "\n"
     ]
    },
    {
     "name": "stderr",
     "output_type": "stream",
     "text": [
      "2022-02-22 at 17:45:44 | DEBUG | base | Transforming KBestFeatureSelectorRegression(n_features=5, selected_features=set)\n",
      "2022-02-22 at 17:45:44 | INFO | catalog | Adding dataset: X_kbest\n",
      "2022-02-22 at 17:45:44 | INFO | node | Running Node: seq_selector\n",
      "2022-02-22 at 17:45:44 | INFO | base | Loading PandasDataset(name='X', data=DataFrame)\n",
      "2022-02-22 at 17:45:44 | INFO | base | Loading PandasDataset(name='y', data=DataFrame)\n",
      "2022-02-22 at 17:45:44 | DEBUG | base | Fitting BackwardForwardFeatureSelector(n_features=5, estimator=LinearRegression)\n"
     ]
    },
    {
     "name": "stdout",
     "output_type": "stream",
     "text": [
      "Features selected by Select KBest: {'feature_1', 'feature_9', 'feature_5', 'feature_2', 'feature_0', 'feature_7', 'feature_3'} \n",
      "\n"
     ]
    },
    {
     "name": "stderr",
     "output_type": "stream",
     "text": [
      "2022-02-22 at 17:45:45 | DEBUG | base | Transforming BackwardForwardFeatureSelector(n_features=5, estimator=LinearRegression, selected_features=set)\n",
      "2022-02-22 at 17:45:45 | INFO | catalog | Adding dataset: X_seq\n",
      "2022-02-22 at 17:45:45 | INFO | node | Running Node: vif_selector\n",
      "2022-02-22 at 17:45:45 | INFO | base | Loading PandasDataset(name='X', data=DataFrame)\n",
      "2022-02-22 at 17:45:45 | INFO | base | Loading PandasDataset(name='y', data=DataFrame)\n",
      "2022-02-22 at 17:45:45 | DEBUG | base | Fitting VIFFeatureSelector(threshold=2)\n",
      "2022-02-22 at 17:45:45 | DEBUG | base | Transforming VIFFeatureSelector(threshold=2, selected_features=['feature_0', 'feature_1', 'feature_2', 'feature_3', 'feature_4', 'feature_5', 'feature_6', 'feature_7', 'feature_8', 'feature_9'])\n",
      "2022-02-22 at 17:45:45 | INFO | catalog | Adding dataset: X_vif\n",
      "2022-02-22 at 17:45:45 | INFO | node | Running Node: from_model_selector\n",
      "2022-02-22 at 17:45:45 | INFO | base | Loading PandasDataset(name='X', data=DataFrame)\n",
      "2022-02-22 at 17:45:45 | INFO | base | Loading PandasDataset(name='y', data=DataFrame)\n",
      "2022-02-22 at 17:45:45 | DEBUG | base | Fitting FromModelFeatureSelector(n_features=5, estimator=ElasticNet)\n",
      "2022-02-22 at 17:45:45 | DEBUG | base | Transforming FromModelFeatureSelector(n_features=5, estimator=ElasticNet, selected_features=set)\n",
      "2022-02-22 at 17:45:45 | INFO | catalog | Adding dataset: X_from_model\n",
      "2022-02-22 at 17:45:45 | INFO | node | Running Node: model_full\n",
      "2022-02-22 at 17:45:45 | INFO | base | Loading PandasDataset(name='X', data=DataFrame)\n",
      "2022-02-22 at 17:45:45 | INFO | base | Loading PandasDataset(name='y', data=DataFrame)\n",
      "2022-02-22 at 17:45:45 | DEBUG | base | Fitting SklearnModelTransformer(name='rf_clf', model=RandomForestRegressor)\n"
     ]
    },
    {
     "name": "stdout",
     "output_type": "stream",
     "text": [
      "Features selected by union of back and forward sequential selection: {'feature_9', 'feature_5', 'feature_8', 'feature_0', 'feature_3'} \n",
      "\n",
      "Features selected by VIF: ['feature_0', 'feature_1', 'feature_2', 'feature_3', 'feature_4', 'feature_5', 'feature_6', 'feature_7', 'feature_8', 'feature_9'] \n",
      "\n",
      "Features selected from Model ElasticNet(): {'feature_5', 'feature_0', 'feature_3'} \n",
      "\n"
     ]
    },
    {
     "name": "stderr",
     "output_type": "stream",
     "text": [
      "2022-02-22 at 17:45:46 | DEBUG | base | Transforming SklearnModelTransformer(name='rf_clf', model=RandomForestRegressor)\n",
      "2022-02-22 at 17:45:46 | INFO | catalog | Adding dataset: y_full\n",
      "2022-02-22 at 17:45:46 | INFO | node | Running Node: model_corr\n",
      "2022-02-22 at 17:45:46 | INFO | base | Loading PandasDataset(name='X_correlation', data=DataFrame)\n",
      "2022-02-22 at 17:45:46 | INFO | base | Loading PandasDataset(name='y', data=DataFrame)\n",
      "2022-02-22 at 17:45:46 | DEBUG | base | Fitting SklearnModelTransformer(name='rf_corr', model=RandomForestRegressor)\n",
      "2022-02-22 at 17:45:47 | DEBUG | base | Transforming SklearnModelTransformer(name='rf_corr', model=RandomForestRegressor)\n",
      "2022-02-22 at 17:45:47 | INFO | catalog | Adding dataset: y_correlation\n",
      "2022-02-22 at 17:45:47 | INFO | node | Running Node: model_rfe\n",
      "2022-02-22 at 17:45:47 | INFO | base | Loading PandasDataset(name='X_rfe', data=DataFrame)\n",
      "2022-02-22 at 17:45:47 | INFO | base | Loading PandasDataset(name='y', data=DataFrame)\n",
      "2022-02-22 at 17:45:47 | DEBUG | base | Fitting SklearnModelTransformer(name='rf_rfe', model=RandomForestRegressor)\n",
      "2022-02-22 at 17:45:48 | DEBUG | base | Transforming SklearnModelTransformer(name='rf_rfe', model=RandomForestRegressor)\n",
      "2022-02-22 at 17:45:48 | INFO | catalog | Adding dataset: y_rfe\n",
      "2022-02-22 at 17:45:48 | INFO | node | Running Node: model_kbest\n",
      "2022-02-22 at 17:45:48 | INFO | base | Loading PandasDataset(name='X_kbest', data=DataFrame)\n",
      "2022-02-22 at 17:45:48 | INFO | base | Loading PandasDataset(name='y', data=DataFrame)\n",
      "2022-02-22 at 17:45:48 | DEBUG | base | Fitting SklearnModelTransformer(name='rf_kbest', model=RandomForestRegressor)\n",
      "2022-02-22 at 17:45:49 | DEBUG | base | Transforming SklearnModelTransformer(name='rf_kbest', model=RandomForestRegressor)\n",
      "2022-02-22 at 17:45:49 | INFO | catalog | Adding dataset: y_kbest\n",
      "2022-02-22 at 17:45:49 | INFO | node | Running Node: model_seq\n",
      "2022-02-22 at 17:45:49 | INFO | base | Loading PandasDataset(name='X_seq', data=DataFrame)\n",
      "2022-02-22 at 17:45:49 | INFO | base | Loading PandasDataset(name='y', data=DataFrame)\n",
      "2022-02-22 at 17:45:49 | DEBUG | base | Fitting SklearnModelTransformer(name='rf_seq', model=RandomForestRegressor)\n",
      "2022-02-22 at 17:45:49 | DEBUG | base | Transforming SklearnModelTransformer(name='rf_seq', model=RandomForestRegressor)\n",
      "2022-02-22 at 17:45:49 | INFO | catalog | Adding dataset: y_seq\n",
      "2022-02-22 at 17:45:49 | INFO | node | Running Node: model_vif\n",
      "2022-02-22 at 17:45:49 | INFO | base | Loading PandasDataset(name='X_vif', data=DataFrame)\n",
      "2022-02-22 at 17:45:49 | INFO | base | Loading PandasDataset(name='y', data=DataFrame)\n",
      "2022-02-22 at 17:45:49 | DEBUG | base | Fitting SklearnModelTransformer(name='rf_vif', model=RandomForestRegressor)\n",
      "2022-02-22 at 17:45:50 | DEBUG | base | Transforming SklearnModelTransformer(name='rf_vif', model=RandomForestRegressor)\n",
      "2022-02-22 at 17:45:50 | INFO | catalog | Adding dataset: y_vif\n",
      "2022-02-22 at 17:45:50 | INFO | node | Running Node: model_from_model\n",
      "2022-02-22 at 17:45:50 | INFO | base | Loading PandasDataset(name='X_from_model', data=DataFrame)\n",
      "2022-02-22 at 17:45:50 | INFO | base | Loading PandasDataset(name='y', data=DataFrame)\n",
      "2022-02-22 at 17:45:50 | DEBUG | base | Fitting SklearnModelTransformer(name='rf_from_model', model=RandomForestRegressor)\n",
      "2022-02-22 at 17:45:51 | DEBUG | base | Transforming SklearnModelTransformer(name='rf_from_model', model=RandomForestRegressor)\n",
      "2022-02-22 at 17:45:51 | INFO | catalog | Adding dataset: y_from_model\n",
      "2022-02-22 at 17:45:51 | INFO | node | Running Node: evaluate_vif\n",
      "2022-02-22 at 17:45:51 | INFO | base | Loading PandasDataset(name='X_vif', data=DataFrame)\n",
      "2022-02-22 at 17:45:51 | INFO | base | Loading PandasDataset(name='y', data=DataFrame)\n",
      "2022-02-22 at 17:45:51 | DEBUG | base | Fitting RegressionModelEvaluator(name='rf_vif', model=RandomForestRegressor, metrics=['r2', 'neg_mean_squared_error', 'neg_root_mean_squared_error'])\n",
      "2022-02-22 at 17:45:55 | DEBUG | base | Transforming RegressionModelEvaluator(name='rf_vif', model=RandomForestRegressor, metrics=['r2', 'neg_mean_squared_error', 'neg_root_mean_squared_error'], results=DataFrame)\n",
      "2022-02-22 at 17:45:55 | INFO | catalog | Adding dataset: results_vif\n",
      "2022-02-22 at 17:45:55 | INFO | node | Running Node: evaluate_kbest\n",
      "2022-02-22 at 17:45:55 | INFO | base | Loading PandasDataset(name='X_kbest', data=DataFrame)\n",
      "2022-02-22 at 17:45:55 | INFO | base | Loading PandasDataset(name='y', data=DataFrame)\n",
      "2022-02-22 at 17:45:55 | DEBUG | base | Fitting RegressionModelEvaluator(name='rf_kbest', model=RandomForestRegressor, metrics=['r2', 'neg_mean_squared_error', 'neg_root_mean_squared_error'])\n",
      "2022-02-22 at 17:45:59 | DEBUG | base | Transforming RegressionModelEvaluator(name='rf_kbest', model=RandomForestRegressor, metrics=['r2', 'neg_mean_squared_error', 'neg_root_mean_squared_error'], results=DataFrame)\n",
      "2022-02-22 at 17:45:59 | INFO | catalog | Adding dataset: results_kbest\n",
      "2022-02-22 at 17:45:59 | INFO | node | Running Node: evaluate_seq\n",
      "2022-02-22 at 17:45:59 | INFO | base | Loading PandasDataset(name='X_seq', data=DataFrame)\n",
      "2022-02-22 at 17:45:59 | INFO | base | Loading PandasDataset(name='y', data=DataFrame)\n",
      "2022-02-22 at 17:45:59 | DEBUG | base | Fitting RegressionModelEvaluator(name='rf_seq', model=RandomForestRegressor, metrics=['r2', 'neg_mean_squared_error', 'neg_root_mean_squared_error'])\n",
      "2022-02-22 at 17:46:02 | DEBUG | base | Transforming RegressionModelEvaluator(name='rf_seq', model=RandomForestRegressor, metrics=['r2', 'neg_mean_squared_error', 'neg_root_mean_squared_error'], results=DataFrame)\n",
      "2022-02-22 at 17:46:02 | INFO | catalog | Adding dataset: results_seq\n",
      "2022-02-22 at 17:46:02 | INFO | node | Running Node: evaluate_rfe\n",
      "2022-02-22 at 17:46:02 | INFO | base | Loading PandasDataset(name='X_rfe', data=DataFrame)\n",
      "2022-02-22 at 17:46:02 | INFO | base | Loading PandasDataset(name='y', data=DataFrame)\n",
      "2022-02-22 at 17:46:02 | DEBUG | base | Fitting RegressionModelEvaluator(name='rf_rfe', model=RandomForestRegressor, metrics=['r2', 'neg_mean_squared_error', 'neg_root_mean_squared_error'])\n",
      "2022-02-22 at 17:46:05 | DEBUG | base | Transforming RegressionModelEvaluator(name='rf_rfe', model=RandomForestRegressor, metrics=['r2', 'neg_mean_squared_error', 'neg_root_mean_squared_error'], results=DataFrame)\n",
      "2022-02-22 at 17:46:05 | INFO | catalog | Adding dataset: results_rfe\n",
      "2022-02-22 at 17:46:05 | INFO | node | Running Node: evaluate_from_model\n",
      "2022-02-22 at 17:46:05 | INFO | base | Loading PandasDataset(name='X_from_model', data=DataFrame)\n",
      "2022-02-22 at 17:46:05 | INFO | base | Loading PandasDataset(name='y', data=DataFrame)\n",
      "2022-02-22 at 17:46:05 | DEBUG | base | Fitting RegressionModelEvaluator(name='rf_from_model', model=RandomForestRegressor, metrics=['r2', 'neg_mean_squared_error', 'neg_root_mean_squared_error'])\n",
      "2022-02-22 at 17:46:08 | DEBUG | base | Transforming RegressionModelEvaluator(name='rf_from_model', model=RandomForestRegressor, metrics=['r2', 'neg_mean_squared_error', 'neg_root_mean_squared_error'], results=DataFrame)\n",
      "2022-02-22 at 17:46:08 | INFO | catalog | Adding dataset: results_from_model\n",
      "2022-02-22 at 17:46:08 | INFO | node | Running Node: evaluate_correlation\n",
      "2022-02-22 at 17:46:08 | INFO | base | Loading PandasDataset(name='X_correlation', data=DataFrame)\n",
      "2022-02-22 at 17:46:08 | INFO | base | Loading PandasDataset(name='y', data=DataFrame)\n",
      "2022-02-22 at 17:46:08 | DEBUG | base | Fitting RegressionModelEvaluator(name='rf_corr', model=RandomForestRegressor, metrics=['r2', 'neg_mean_squared_error', 'neg_root_mean_squared_error'])\n",
      "2022-02-22 at 17:46:10 | DEBUG | base | Transforming RegressionModelEvaluator(name='rf_corr', model=RandomForestRegressor, metrics=['r2', 'neg_mean_squared_error', 'neg_root_mean_squared_error'], results=DataFrame)\n",
      "2022-02-22 at 17:46:10 | INFO | base | Saving PandasDataset(name='results_from_model', data=DataFrame)\n",
      "2022-02-22 at 17:46:10 | INFO | node | Running Node: evaluate_nothing\n",
      "2022-02-22 at 17:46:10 | INFO | base | Loading PandasDataset(name='X', data=DataFrame)\n",
      "2022-02-22 at 17:46:10 | INFO | base | Loading PandasDataset(name='y', data=DataFrame)\n",
      "2022-02-22 at 17:46:10 | DEBUG | base | Fitting RegressionModelEvaluator(name='rf', model=RandomForestRegressor, metrics=['r2', 'neg_mean_squared_error', 'neg_root_mean_squared_error'])\n",
      "2022-02-22 at 17:46:14 | DEBUG | base | Transforming RegressionModelEvaluator(name='rf', model=RandomForestRegressor, metrics=['r2', 'neg_mean_squared_error', 'neg_root_mean_squared_error'], results=DataFrame)\n",
      "2022-02-22 at 17:46:14 | INFO | catalog | Adding dataset: results_nothing\n"
     ]
    }
   ],
   "source": [
    "wrangler.fit_transform()"
   ]
  },
  {
   "cell_type": "code",
   "execution_count": 54,
   "metadata": {},
   "outputs": [
    {
     "name": "stderr",
     "output_type": "stream",
     "text": [
      "2022-02-22 at 17:48:44 | INFO | base | Loading PandasDataset(name='results_nothing', data=DataFrame)\n"
     ]
    },
    {
     "data": {
      "text/html": [
       "<div>\n",
       "<style scoped>\n",
       "    .dataframe tbody tr th:only-of-type {\n",
       "        vertical-align: middle;\n",
       "    }\n",
       "\n",
       "    .dataframe tbody tr th {\n",
       "        vertical-align: top;\n",
       "    }\n",
       "\n",
       "    .dataframe thead th {\n",
       "        text-align: right;\n",
       "    }\n",
       "</style>\n",
       "<table border=\"1\" class=\"dataframe\">\n",
       "  <thead>\n",
       "    <tr style=\"text-align: right;\">\n",
       "      <th></th>\n",
       "      <th>fit_time</th>\n",
       "      <th>score_time</th>\n",
       "      <th>test_r2</th>\n",
       "      <th>train_r2</th>\n",
       "      <th>test_neg_mean_squared_error</th>\n",
       "      <th>train_neg_mean_squared_error</th>\n",
       "      <th>test_neg_root_mean_squared_error</th>\n",
       "      <th>train_neg_root_mean_squared_error</th>\n",
       "    </tr>\n",
       "  </thead>\n",
       "  <tbody>\n",
       "    <tr>\n",
       "      <th>0</th>\n",
       "      <td>0.835879</td>\n",
       "      <td>0.020859</td>\n",
       "      <td>0.957673</td>\n",
       "      <td>0.992921</td>\n",
       "      <td>-622.585598</td>\n",
       "      <td>-102.716966</td>\n",
       "      <td>-24.951665</td>\n",
       "      <td>-10.134938</td>\n",
       "    </tr>\n",
       "    <tr>\n",
       "      <th>1</th>\n",
       "      <td>0.827275</td>\n",
       "      <td>0.019296</td>\n",
       "      <td>0.956550</td>\n",
       "      <td>0.992826</td>\n",
       "      <td>-648.608791</td>\n",
       "      <td>-103.884036</td>\n",
       "      <td>-25.467799</td>\n",
       "      <td>-10.192352</td>\n",
       "    </tr>\n",
       "    <tr>\n",
       "      <th>2</th>\n",
       "      <td>0.809443</td>\n",
       "      <td>0.018850</td>\n",
       "      <td>0.940524</td>\n",
       "      <td>0.993589</td>\n",
       "      <td>-850.449612</td>\n",
       "      <td>-93.838508</td>\n",
       "      <td>-29.162469</td>\n",
       "      <td>-9.687028</td>\n",
       "    </tr>\n",
       "    <tr>\n",
       "      <th>3</th>\n",
       "      <td>0.797382</td>\n",
       "      <td>0.021045</td>\n",
       "      <td>0.952276</td>\n",
       "      <td>0.993078</td>\n",
       "      <td>-694.653162</td>\n",
       "      <td>-100.852602</td>\n",
       "      <td>-26.356274</td>\n",
       "      <td>-10.042540</td>\n",
       "    </tr>\n",
       "    <tr>\n",
       "      <th>4</th>\n",
       "      <td>0.802910</td>\n",
       "      <td>0.020463</td>\n",
       "      <td>0.949559</td>\n",
       "      <td>0.992689</td>\n",
       "      <td>-717.168778</td>\n",
       "      <td>-107.075505</td>\n",
       "      <td>-26.780007</td>\n",
       "      <td>-10.347729</td>\n",
       "    </tr>\n",
       "  </tbody>\n",
       "</table>\n",
       "</div>"
      ],
      "text/plain": [
       "   fit_time  score_time   test_r2  train_r2  test_neg_mean_squared_error  \\\n",
       "0  0.835879    0.020859  0.957673  0.992921                  -622.585598   \n",
       "1  0.827275    0.019296  0.956550  0.992826                  -648.608791   \n",
       "2  0.809443    0.018850  0.940524  0.993589                  -850.449612   \n",
       "3  0.797382    0.021045  0.952276  0.993078                  -694.653162   \n",
       "4  0.802910    0.020463  0.949559  0.992689                  -717.168778   \n",
       "\n",
       "   train_neg_mean_squared_error  test_neg_root_mean_squared_error  \\\n",
       "0                   -102.716966                        -24.951665   \n",
       "1                   -103.884036                        -25.467799   \n",
       "2                    -93.838508                        -29.162469   \n",
       "3                   -100.852602                        -26.356274   \n",
       "4                   -107.075505                        -26.780007   \n",
       "\n",
       "   train_neg_root_mean_squared_error  \n",
       "0                         -10.134938  \n",
       "1                         -10.192352  \n",
       "2                          -9.687028  \n",
       "3                         -10.042540  \n",
       "4                         -10.347729  "
      ]
     },
     "execution_count": 54,
     "metadata": {},
     "output_type": "execute_result"
    }
   ],
   "source": [
    "wrangler.data_catalog.load('results_nothing')"
   ]
  },
  {
   "cell_type": "code",
   "execution_count": null,
   "metadata": {},
   "outputs": [],
   "source": []
  }
 ],
 "metadata": {
  "interpreter": {
   "hash": "477c64429a66b88dbea596d2fd7dadb0d3a75c4333ee684689ddf8e8bb5bf8be"
  },
  "kernelspec": {
   "display_name": "Python 3.8.5 ('base')",
   "language": "python",
   "name": "python3"
  },
  "language_info": {
   "codemirror_mode": {
    "name": "ipython",
    "version": 3
   },
   "file_extension": ".py",
   "mimetype": "text/x-python",
   "name": "python",
   "nbconvert_exporter": "python",
   "pygments_lexer": "ipython3",
   "version": "3.8.5"
  },
  "orig_nbformat": 4
 },
 "nbformat": 4,
 "nbformat_minor": 2
}
