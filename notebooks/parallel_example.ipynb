{
 "cells": [
  {
   "cell_type": "markdown",
   "metadata": {},
   "source": [
    "# Ejemplo de Nodos Paralelos"
   ]
  },
  {
   "cell_type": "code",
   "execution_count": 1,
   "metadata": {},
   "outputs": [],
   "source": [
    "import pandas as pd\n",
    "import numpy as np\n",
    "from wrangler import Wrangler\n",
    "from wrangler.data import PandasDataset, CSVDataset\n",
    "import wrangler.transformers as tr\n",
    "import wrangler.transformers.text as text_tr\n",
    "import wrangler.transformers.ml as ml_tr\n",
    "from wrangler import logger as wrangler_logger"
   ]
  },
  {
   "cell_type": "code",
   "execution_count": 2,
   "metadata": {},
   "outputs": [],
   "source": [
    "# Uncomment for console logging \n",
    "wrangler_logger.enable()\n",
    "\n",
    "# Uncomment for file output logging\n",
    "# wlogger.enable_file(filename='logfile.log')"
   ]
  },
  {
   "cell_type": "markdown",
   "metadata": {},
   "source": [
    "## Wrangler"
   ]
  },
  {
   "cell_type": "code",
   "execution_count": 3,
   "metadata": {},
   "outputs": [
    {
     "name": "stderr",
     "output_type": "stream",
     "text": [
      "2022-02-08 at 10:55:41 | INFO | catalog | Adding dataset: intermediate\n",
      "2022-02-08 at 10:55:41 | INFO | catalog | Adding dataset: dataset1\n",
      "2022-02-08 at 10:55:41 | INFO | catalog | Adding dataset: dataset2\n",
      "2022-02-08 at 10:55:41 | INFO | pipeline | Node node_0 added to Pipeline \n",
      "2022-02-08 at 10:55:41 | INFO | pipeline | Node drop de numeros_b added to Pipeline \n",
      "2022-02-08 at 10:55:41 | INFO | pipeline | Node nodo join added to Pipeline \n",
      "2022-02-08 at 10:55:41 | INFO | pipeline | Node node_3 added to Pipeline \n",
      "2022-02-08 at 10:55:41 | INFO | pipeline | Node node_4 added to Pipeline \n",
      "2022-02-08 at 10:55:41 | INFO | pipeline | Node node_5 added to Pipeline \n",
      "2022-02-08 at 10:55:41 | INFO | pipeline | Node node_6 added to Pipeline \n",
      "2022-02-08 at 10:55:41 | INFO | pipeline | Node node_7 added to Pipeline \n"
     ]
    }
   ],
   "source": [
    "# Creamos el Wrangler\n",
    "wrangler = Wrangler()\n",
    "\n",
    "# Definimos Datasets\n",
    "df_b = pd.DataFrame({\"letras_b\":[\"d\", \"e\", \"f\", \"g\"],\n",
    "                    'tipo_b':['consonante','vocal','consonante','consonante'],\n",
    "                     \"numeros_b\":[3, 4, 5, 6]})\n",
    "\n",
    "\n",
    "\n",
    "dataset1 = CSVDataset(name='dataset1', filename='../data/dataset1.csv')\n",
    "dataset2 = PandasDataset(name='dataset2', data=df_b)\n",
    "\n",
    "# Agregamos Datasets al Wrangler\n",
    "wrangler.add_dataset(dataset1)\n",
    "\n",
    "wrangler.add_dataset(dataset2)\n",
    "\n",
    "wrangler.add_node(\n",
    "    transformer=tr.ColumnDropper(columns=['nombres']),\n",
    "    inputs = 'dataset1', \n",
    "    outputs= 'dataset3',\n",
    "    # Si no especificamos un output Wrangler \n",
    "    # asigna un dataset intermedio automaticamente\n",
    ")\n",
    "\n",
    "wrangler.add_node(\n",
    "    name='drop de numeros_b',\n",
    "    transformer=tr.ColumnDropper(columns=['numeros_b']),\n",
    "    inputs = 'dataset2', \n",
    "    outputs= 'dataset4',\n",
    "    # Si no especificamos un output Wrangler \n",
    "    # asigna un dataset intermedio automaticamente\n",
    ")\n",
    "\n",
    "wrangler.add_node(\n",
    "    name= 'nodo join',\n",
    "    transformer = tr.JoinTransformer(left_on='letras_a', right_on='letras_b', how='outer'),\n",
    "    inputs = ['dataset3','dataset4'],\n",
    "    outputs='dataset5'    \n",
    ")\n",
    "\n",
    "wrangler.add_node(\n",
    "    transformer=text_tr.ModeImputer(column='tipo_a'),\n",
    "    inputs='dataset5',\n",
    "    outputs='dataset6'\n",
    ")\n",
    "\n",
    "wrangler.add_node(\n",
    "    transformer=tr.DataCheckPoint('../data/checkpoint.csv'),  \n",
    "    inputs='dataset6',\n",
    "    outputs='dataset6'\n",
    ")\n",
    "\n",
    "def duplicate_dataframe(df):\n",
    "    return df, df\n",
    "\n",
    "wrangler.add_node(\n",
    "    transformer=tr.DataframeTransformer(duplicate_dataframe),  \n",
    "    inputs='dataset6',\n",
    "    outputs=['dataset7','dataset8']\n",
    ")\n",
    "\n",
    "def do_none(df):\n",
    "    return df\n",
    "\n",
    "\n",
    "wrangler.add_node(\n",
    "    transformer=tr.DataframeTransformer(do_none),  \n",
    "    inputs='dataset7',\n",
    "    outputs='dataset7_final'\n",
    ")\n",
    "\n",
    "wrangler.add_node(\n",
    "    transformer=tr.DataframeTransformer(do_none),  \n",
    "    inputs='dataset8',\n",
    "    outputs='dataset8_final'\n",
    ")\n"
   ]
  },
  {
   "cell_type": "code",
   "execution_count": 4,
   "metadata": {},
   "outputs": [
    {
     "name": "stderr",
     "output_type": "stream",
     "text": [
      "2022-02-08 at 10:55:42 | INFO | node | Running Node: node_0\n",
      "2022-02-08 at 10:55:42 | INFO | catalog | Loading dataset: dataset1\n",
      "2022-02-08 at 10:55:42 | DEBUG | base | Loading CSVDataset(name='dataset1', filename='../data/dataset1.csv')\n",
      "2022-02-08 at 10:55:42 | DEBUG | base | Fitting ColumnDropper(columns=['nombres'])\n",
      "2022-02-08 at 10:55:42 | DEBUG | base | Transforming ColumnDropper(columns=['nombres'])\n",
      "2022-02-08 at 10:55:42 | INFO | catalog | Saving dataset: dataset3\n",
      "2022-02-08 at 10:55:42 | INFO | catalog | Adding dataset: dataset3\n",
      "2022-02-08 at 10:55:42 | INFO | node | Running Node: drop de numeros_b\n",
      "2022-02-08 at 10:55:42 | INFO | catalog | Loading dataset: dataset2\n",
      "2022-02-08 at 10:55:42 | DEBUG | base | Loading PandasDataset(name='dataset2', data=DataFrame)\n",
      "2022-02-08 at 10:55:42 | DEBUG | base | Fitting ColumnDropper(columns=['numeros_b'])\n",
      "2022-02-08 at 10:55:42 | DEBUG | base | Transforming ColumnDropper(columns=['numeros_b'])\n",
      "2022-02-08 at 10:55:42 | INFO | catalog | Saving dataset: dataset4\n",
      "2022-02-08 at 10:55:42 | INFO | catalog | Adding dataset: dataset4\n",
      "2022-02-08 at 10:55:42 | INFO | node | Running Node: nodo join\n",
      "2022-02-08 at 10:55:42 | INFO | catalog | Loading dataset: dataset3\n",
      "2022-02-08 at 10:55:42 | DEBUG | base | Loading PandasDataset(name='dataset3', data=DataFrame)\n",
      "2022-02-08 at 10:55:42 | INFO | catalog | Loading dataset: dataset4\n",
      "2022-02-08 at 10:55:42 | DEBUG | base | Loading PandasDataset(name='dataset4', data=DataFrame)\n",
      "2022-02-08 at 10:55:42 | DEBUG | base | Fitting JoinTransformer(how='outer', left_on='letras_a', right_on='letras_b', left_index=False, right_index=False, suffixes=tuple, merge_kwargs=dict)\n",
      "2022-02-08 at 10:55:42 | DEBUG | base | Transforming JoinTransformer(how='outer', left_on='letras_a', right_on='letras_b', left_index=False, right_index=False, suffixes=tuple, merge_kwargs=dict)\n",
      "2022-02-08 at 10:55:42 | INFO | catalog | Saving dataset: dataset5\n",
      "2022-02-08 at 10:55:42 | INFO | catalog | Adding dataset: dataset5\n",
      "2022-02-08 at 10:55:42 | INFO | node | Running Node: node_3\n",
      "2022-02-08 at 10:55:42 | INFO | catalog | Loading dataset: dataset5\n",
      "2022-02-08 at 10:55:42 | DEBUG | base | Loading PandasDataset(name='dataset5', data=DataFrame)\n",
      "2022-02-08 at 10:55:42 | DEBUG | base | Fitting ModeImputer(column='tipo_a')\n",
      "2022-02-08 at 10:55:42 | DEBUG | base | Transforming ModeImputer(column='tipo_a', impute_value='consonante')\n",
      "2022-02-08 at 10:55:42 | INFO | catalog | Saving dataset: dataset6\n",
      "2022-02-08 at 10:55:42 | INFO | catalog | Adding dataset: dataset6\n",
      "2022-02-08 at 10:55:42 | INFO | node | Running Node: node_4\n",
      "2022-02-08 at 10:55:42 | INFO | catalog | Loading dataset: dataset6\n",
      "2022-02-08 at 10:55:42 | DEBUG | base | Loading PandasDataset(name='dataset6', data=DataFrame)\n",
      "2022-02-08 at 10:55:42 | DEBUG | base | Fitting DataCheckPoint(save_path='../data/checkpoint.csv')\n",
      "2022-02-08 at 10:55:42 | DEBUG | base | Transforming DataCheckPoint(save_path='../data/checkpoint.csv')\n",
      "2022-02-08 at 10:55:42 | INFO | catalog | Saving dataset: dataset6\n",
      "2022-02-08 at 10:55:42 | DEBUG | base | Saving PandasDataset(name='dataset6', data=DataFrame)\n",
      "2022-02-08 at 10:55:42 | INFO | node | Running Node: node_5\n",
      "2022-02-08 at 10:55:42 | INFO | catalog | Loading dataset: dataset6\n",
      "2022-02-08 at 10:55:42 | DEBUG | base | Loading PandasDataset(name='dataset6', data=DataFrame)\n",
      "2022-02-08 at 10:55:42 | DEBUG | base | Fitting DataframeTransformer(function=duplicate_dataframe)\n",
      "2022-02-08 at 10:55:42 | DEBUG | base | Transforming DataframeTransformer(function=duplicate_dataframe)\n",
      "2022-02-08 at 10:55:42 | INFO | catalog | Saving dataset: dataset7\n",
      "2022-02-08 at 10:55:42 | INFO | catalog | Adding dataset: dataset7\n",
      "2022-02-08 at 10:55:42 | INFO | catalog | Saving dataset: dataset8\n",
      "2022-02-08 at 10:55:42 | INFO | catalog | Adding dataset: dataset8\n",
      "2022-02-08 at 10:55:42 | INFO | node | Running Node: node_6\n",
      "2022-02-08 at 10:55:42 | INFO | catalog | Loading dataset: dataset7\n",
      "2022-02-08 at 10:55:42 | DEBUG | base | Loading PandasDataset(name='dataset7', data=DataFrame)\n",
      "2022-02-08 at 10:55:42 | DEBUG | base | Fitting DataframeTransformer(function=do_none)\n",
      "2022-02-08 at 10:55:42 | DEBUG | base | Transforming DataframeTransformer(function=do_none)\n",
      "2022-02-08 at 10:55:42 | INFO | catalog | Saving dataset: dataset7_final\n",
      "2022-02-08 at 10:55:42 | INFO | catalog | Adding dataset: dataset7_final\n",
      "2022-02-08 at 10:55:42 | INFO | node | Running Node: node_7\n",
      "2022-02-08 at 10:55:42 | INFO | catalog | Loading dataset: dataset8\n",
      "2022-02-08 at 10:55:42 | DEBUG | base | Loading PandasDataset(name='dataset8', data=DataFrame)\n",
      "2022-02-08 at 10:55:42 | DEBUG | base | Fitting DataframeTransformer(function=do_none)\n",
      "2022-02-08 at 10:55:42 | DEBUG | base | Transforming DataframeTransformer(function=do_none)\n",
      "2022-02-08 at 10:55:42 | INFO | catalog | Saving dataset: dataset8_final\n",
      "2022-02-08 at 10:55:42 | INFO | catalog | Adding dataset: dataset8_final\n"
     ]
    }
   ],
   "source": [
    "# Fiteamos los nodos\n",
    "wrangler.fit_transform()"
   ]
  },
  {
   "cell_type": "code",
   "execution_count": 6,
   "metadata": {},
   "outputs": [
    {
     "name": "stderr",
     "output_type": "stream",
     "text": [
      "2022-02-08 at 10:56:01 | INFO | catalog | Loading dataset: dataset8_final\n",
      "2022-02-08 at 10:56:01 | DEBUG | base | Loading PandasDataset(name='dataset8_final', data=DataFrame)\n"
     ]
    },
    {
     "data": {
      "text/html": [
       "<div>\n",
       "<style scoped>\n",
       "    .dataframe tbody tr th:only-of-type {\n",
       "        vertical-align: middle;\n",
       "    }\n",
       "\n",
       "    .dataframe tbody tr th {\n",
       "        vertical-align: top;\n",
       "    }\n",
       "\n",
       "    .dataframe thead th {\n",
       "        text-align: right;\n",
       "    }\n",
       "</style>\n",
       "<table border=\"1\" class=\"dataframe\">\n",
       "  <thead>\n",
       "    <tr style=\"text-align: right;\">\n",
       "      <th></th>\n",
       "      <th>numeros_a</th>\n",
       "      <th>numeros_c</th>\n",
       "      <th>letras_a</th>\n",
       "      <th>tipo_a</th>\n",
       "      <th>letras_b</th>\n",
       "      <th>tipo_b</th>\n",
       "    </tr>\n",
       "  </thead>\n",
       "  <tbody>\n",
       "    <tr>\n",
       "      <th>0</th>\n",
       "      <td>1</td>\n",
       "      <td>11</td>\n",
       "      <td>a</td>\n",
       "      <td>vocal</td>\n",
       "      <td>NaN</td>\n",
       "      <td>NaN</td>\n",
       "    </tr>\n",
       "    <tr>\n",
       "      <th>1</th>\n",
       "      <td>2</td>\n",
       "      <td>12</td>\n",
       "      <td>b</td>\n",
       "      <td>consonante</td>\n",
       "      <td>NaN</td>\n",
       "      <td>NaN</td>\n",
       "    </tr>\n",
       "    <tr>\n",
       "      <th>2</th>\n",
       "      <td>3</td>\n",
       "      <td>13</td>\n",
       "      <td>c</td>\n",
       "      <td>consonante</td>\n",
       "      <td>NaN</td>\n",
       "      <td>NaN</td>\n",
       "    </tr>\n",
       "    <tr>\n",
       "      <th>3</th>\n",
       "      <td>4</td>\n",
       "      <td>14</td>\n",
       "      <td>d</td>\n",
       "      <td>consonante</td>\n",
       "      <td>d</td>\n",
       "      <td>consonante</td>\n",
       "    </tr>\n",
       "    <tr>\n",
       "      <th>4</th>\n",
       "      <td>5</td>\n",
       "      <td>15</td>\n",
       "      <td>e</td>\n",
       "      <td>vocal</td>\n",
       "      <td>e</td>\n",
       "      <td>vocal</td>\n",
       "    </tr>\n",
       "    <tr>\n",
       "      <th>5</th>\n",
       "      <td>6</td>\n",
       "      <td>16</td>\n",
       "      <td>f</td>\n",
       "      <td>consonante</td>\n",
       "      <td>f</td>\n",
       "      <td>consonante</td>\n",
       "    </tr>\n",
       "    <tr>\n",
       "      <th>6</th>\n",
       "      <td>7</td>\n",
       "      <td>17</td>\n",
       "      <td>g</td>\n",
       "      <td>consonante</td>\n",
       "      <td>g</td>\n",
       "      <td>consonante</td>\n",
       "    </tr>\n",
       "    <tr>\n",
       "      <th>7</th>\n",
       "      <td>8</td>\n",
       "      <td>18</td>\n",
       "      <td>h</td>\n",
       "      <td>consonante</td>\n",
       "      <td>NaN</td>\n",
       "      <td>NaN</td>\n",
       "    </tr>\n",
       "    <tr>\n",
       "      <th>8</th>\n",
       "      <td>9</td>\n",
       "      <td>19</td>\n",
       "      <td>i</td>\n",
       "      <td>vocal</td>\n",
       "      <td>NaN</td>\n",
       "      <td>NaN</td>\n",
       "    </tr>\n",
       "    <tr>\n",
       "      <th>9</th>\n",
       "      <td>10</td>\n",
       "      <td>20</td>\n",
       "      <td>j</td>\n",
       "      <td>consonante</td>\n",
       "      <td>NaN</td>\n",
       "      <td>NaN</td>\n",
       "    </tr>\n",
       "  </tbody>\n",
       "</table>\n",
       "</div>"
      ],
      "text/plain": [
       "   numeros_a  numeros_c letras_a      tipo_a letras_b      tipo_b\n",
       "0          1         11        a       vocal      NaN         NaN\n",
       "1          2         12        b  consonante      NaN         NaN\n",
       "2          3         13        c  consonante      NaN         NaN\n",
       "3          4         14        d  consonante        d  consonante\n",
       "4          5         15        e       vocal        e       vocal\n",
       "5          6         16        f  consonante        f  consonante\n",
       "6          7         17        g  consonante        g  consonante\n",
       "7          8         18        h  consonante      NaN         NaN\n",
       "8          9         19        i       vocal      NaN         NaN\n",
       "9         10         20        j  consonante      NaN         NaN"
      ]
     },
     "execution_count": 6,
     "metadata": {},
     "output_type": "execute_result"
    }
   ],
   "source": [
    "# Leemos el dataset resultante\n",
    "wrangler.data_catalog.load('dataset8_final')"
   ]
  },
  {
   "cell_type": "code",
   "execution_count": 7,
   "metadata": {},
   "outputs": [],
   "source": [
    "# Guardamos el Wrangler fiteado\n",
    "# Solo se guardaran los datasets que no esten en memoria\n",
    "wrangler.save('../data/parallel_example_wrangler')"
   ]
  },
  {
   "cell_type": "code",
   "execution_count": 8,
   "metadata": {},
   "outputs": [
    {
     "name": "stderr",
     "output_type": "stream",
     "text": [
      "2022-02-08 at 10:56:08 | INFO | catalog | Adding dataset: intermediate\n"
     ]
    }
   ],
   "source": [
    "# Creamos un nuevo Wrangler vacio\n",
    "new_wrangler = Wrangler()"
   ]
  },
  {
   "cell_type": "code",
   "execution_count": 9,
   "metadata": {},
   "outputs": [],
   "source": [
    "new_wrangler.load('../data/parallel_example_wrangler')"
   ]
  },
  {
   "cell_type": "code",
   "execution_count": 10,
   "metadata": {},
   "outputs": [
    {
     "data": {
      "text/plain": [
       "{'dataset1': CSVDataset(name='dataset1', filename='../data/dataset1.csv')}"
      ]
     },
     "execution_count": 10,
     "metadata": {},
     "output_type": "execute_result"
    }
   ],
   "source": [
    "new_wrangler.data_catalog.datasets"
   ]
  },
  {
   "cell_type": "code",
   "execution_count": 11,
   "metadata": {},
   "outputs": [
    {
     "data": {
      "text/plain": [
       "{'dataset1', 'dataset2'}"
      ]
     },
     "execution_count": 11,
     "metadata": {},
     "output_type": "execute_result"
    }
   ],
   "source": [
    "# El Wrangler necesita dataset1 y dataset2 para ejecutar\n",
    "new_wrangler.pipeline.inputs()"
   ]
  },
  {
   "cell_type": "code",
   "execution_count": 12,
   "metadata": {},
   "outputs": [
    {
     "name": "stderr",
     "output_type": "stream",
     "text": [
      "2022-02-08 at 10:56:11 | INFO | catalog | Adding dataset: dataset1\n",
      "2022-02-08 at 10:56:11 | INFO | catalog | Adding dataset: dataset2\n"
     ]
    }
   ],
   "source": [
    "df_a_test = pd.DataFrame({\n",
    "    \"letras_a\":[\"h\", \"i\", \"j\", \"j\", \"l\", \"m\",'n'],\n",
    "    'tipo_a':['consonante','vocal','consonante','consonante','consonante','consonante',np.NaN],\n",
    "    \"numeros_a\":[1, 2, 3, 4, 5, 6, np.NaN]\n",
    "                     })\n",
    "\n",
    "\n",
    "df_b_test = pd.DataFrame({\n",
    "    \"letras_b\":[\"o\", \"p\", \"q\", \"r\"],\n",
    "    'tipo_b':['vocal','consonante','consonante','consonante'],\n",
    "    \"numeros_b\":[3, 4, 5, 6]\n",
    "                     })\n",
    "\n",
    "dataset_test1 = PandasDataset('dataset1',df_a_test)\n",
    "dataset_test2 = PandasDataset('dataset2',df_b_test)\n",
    "\n",
    "# Agregamos/Sobreescribimos los nuevos dataset1 y dataset2\n",
    "new_wrangler.add_dataset(dataset_test1,)\n",
    "new_wrangler.add_dataset(dataset_test2,)"
   ]
  },
  {
   "cell_type": "code",
   "execution_count": 13,
   "metadata": {},
   "outputs": [
    {
     "name": "stderr",
     "output_type": "stream",
     "text": [
      "2022-02-08 at 10:56:11 | INFO | node | Running Node: node_0\n",
      "2022-02-08 at 10:56:11 | INFO | catalog | Loading dataset: dataset1\n",
      "2022-02-08 at 10:56:11 | DEBUG | base | Loading PandasDataset(name='dataset1', data=DataFrame)\n",
      "2022-02-08 at 10:56:11 | DEBUG | base | Transforming ColumnDropper(columns=['nombres'])\n",
      "2022-02-08 at 10:56:11 | INFO | catalog | Saving dataset: dataset3\n",
      "2022-02-08 at 10:56:11 | INFO | catalog | Adding dataset: dataset3\n",
      "2022-02-08 at 10:56:11 | INFO | node | Running Node: drop de numeros_b\n",
      "2022-02-08 at 10:56:11 | INFO | catalog | Loading dataset: dataset2\n",
      "2022-02-08 at 10:56:11 | DEBUG | base | Loading PandasDataset(name='dataset2', data=DataFrame)\n",
      "2022-02-08 at 10:56:11 | DEBUG | base | Transforming ColumnDropper(columns=['numeros_b'])\n",
      "2022-02-08 at 10:56:11 | INFO | catalog | Saving dataset: dataset4\n",
      "2022-02-08 at 10:56:11 | INFO | catalog | Adding dataset: dataset4\n",
      "2022-02-08 at 10:56:11 | INFO | node | Running Node: nodo join\n",
      "2022-02-08 at 10:56:11 | INFO | catalog | Loading dataset: dataset3\n",
      "2022-02-08 at 10:56:11 | DEBUG | base | Loading PandasDataset(name='dataset3', data=DataFrame)\n",
      "2022-02-08 at 10:56:11 | INFO | catalog | Loading dataset: dataset4\n",
      "2022-02-08 at 10:56:11 | DEBUG | base | Loading PandasDataset(name='dataset4', data=DataFrame)\n",
      "2022-02-08 at 10:56:11 | DEBUG | base | Transforming JoinTransformer(how='outer', left_on='letras_a', right_on='letras_b', left_index=False, right_index=False, suffixes=tuple, merge_kwargs=dict)\n",
      "2022-02-08 at 10:56:11 | INFO | catalog | Saving dataset: dataset5\n",
      "2022-02-08 at 10:56:11 | INFO | catalog | Adding dataset: dataset5\n",
      "2022-02-08 at 10:56:11 | INFO | node | Running Node: node_3\n",
      "2022-02-08 at 10:56:11 | INFO | catalog | Loading dataset: dataset5\n",
      "2022-02-08 at 10:56:11 | DEBUG | base | Loading PandasDataset(name='dataset5', data=DataFrame)\n",
      "2022-02-08 at 10:56:11 | DEBUG | base | Transforming ModeImputer(column='tipo_a', impute_value='consonante')\n",
      "2022-02-08 at 10:56:11 | INFO | catalog | Saving dataset: dataset6\n",
      "2022-02-08 at 10:56:11 | INFO | catalog | Adding dataset: dataset6\n",
      "2022-02-08 at 10:56:11 | INFO | node | Running Node: node_4\n",
      "2022-02-08 at 10:56:11 | INFO | catalog | Loading dataset: dataset6\n",
      "2022-02-08 at 10:56:11 | DEBUG | base | Loading PandasDataset(name='dataset6', data=DataFrame)\n",
      "2022-02-08 at 10:56:11 | DEBUG | base | Transforming DataCheckPoint(save_path='../data/checkpoint.csv')\n",
      "2022-02-08 at 10:56:11 | INFO | catalog | Saving dataset: dataset6\n",
      "2022-02-08 at 10:56:11 | DEBUG | base | Saving PandasDataset(name='dataset6', data=DataFrame)\n",
      "2022-02-08 at 10:56:11 | INFO | node | Running Node: node_5\n",
      "2022-02-08 at 10:56:11 | INFO | catalog | Loading dataset: dataset6\n",
      "2022-02-08 at 10:56:11 | DEBUG | base | Loading PandasDataset(name='dataset6', data=DataFrame)\n",
      "2022-02-08 at 10:56:11 | DEBUG | base | Transforming DataframeTransformer(function=duplicate_dataframe)\n",
      "2022-02-08 at 10:56:11 | INFO | catalog | Saving dataset: dataset7\n",
      "2022-02-08 at 10:56:11 | INFO | catalog | Adding dataset: dataset7\n",
      "2022-02-08 at 10:56:11 | INFO | catalog | Saving dataset: dataset8\n",
      "2022-02-08 at 10:56:11 | INFO | catalog | Adding dataset: dataset8\n",
      "2022-02-08 at 10:56:11 | INFO | node | Running Node: node_6\n",
      "2022-02-08 at 10:56:11 | INFO | catalog | Loading dataset: dataset7\n",
      "2022-02-08 at 10:56:11 | DEBUG | base | Loading PandasDataset(name='dataset7', data=DataFrame)\n",
      "2022-02-08 at 10:56:11 | DEBUG | base | Transforming DataframeTransformer(function=do_none)\n",
      "2022-02-08 at 10:56:11 | INFO | catalog | Saving dataset: dataset7_final\n",
      "2022-02-08 at 10:56:11 | INFO | catalog | Adding dataset: dataset7_final\n",
      "2022-02-08 at 10:56:11 | INFO | node | Running Node: node_7\n",
      "2022-02-08 at 10:56:11 | INFO | catalog | Loading dataset: dataset8\n",
      "2022-02-08 at 10:56:11 | DEBUG | base | Loading PandasDataset(name='dataset8', data=DataFrame)\n",
      "2022-02-08 at 10:56:11 | DEBUG | base | Transforming DataframeTransformer(function=do_none)\n",
      "2022-02-08 at 10:56:11 | INFO | catalog | Saving dataset: dataset8_final\n",
      "2022-02-08 at 10:56:11 | INFO | catalog | Adding dataset: dataset8_final\n"
     ]
    }
   ],
   "source": [
    "# Aplicamos las transformaciones predefinidas \n",
    "new_wrangler.transform()"
   ]
  },
  {
   "cell_type": "code",
   "execution_count": 14,
   "metadata": {},
   "outputs": [
    {
     "data": {
      "image/svg+xml": "<?xml version=\"1.0\" encoding=\"UTF-8\" standalone=\"no\"?>\r\n<!DOCTYPE svg PUBLIC \"-//W3C//DTD SVG 1.1//EN\"\r\n \"http://www.w3.org/Graphics/SVG/1.1/DTD/svg11.dtd\">\r\n<!-- Generated by graphviz version 2.49.3 (20211023.0002)\r\n -->\r\n<!-- Title: wrangler Pages: 1 -->\r\n<svg width=\"1296pt\" height=\"1240pt\"\r\n viewBox=\"0.00 0.00 1296.00 1240.24\" xmlns=\"http://www.w3.org/2000/svg\" xmlns:xlink=\"http://www.w3.org/1999/xlink\">\r\n<g id=\"graph0\" class=\"graph\" transform=\"scale(1.36 1.36) rotate(0) translate(4 908)\">\r\n<title>wrangler</title>\r\n<polygon fill=\"white\" stroke=\"transparent\" points=\"-4,4 -4,-908 949,-908 949,4 -4,4\"/>\r\n<!-- node_data_i_0 -->\r\n<g id=\"node1\" class=\"node\">\r\n<title>node_data_i_0</title>\r\n<polygon fill=\"none\" stroke=\"black\" points=\"77,-857.5 77,-903.5 464,-903.5 464,-857.5 77,-857.5\"/>\r\n<text text-anchor=\"middle\" x=\"98\" y=\"-876.8\" font-family=\"Times New Roman,serif\" font-size=\"14.00\">Data</text>\r\n<polyline fill=\"none\" stroke=\"black\" points=\"119,-857.5 119,-903.5 \"/>\r\n<text text-anchor=\"middle\" x=\"143.5\" y=\"-888.3\" font-family=\"Times New Roman,serif\" font-size=\"14.00\">Name</text>\r\n<polyline fill=\"none\" stroke=\"black\" points=\"119,-880.5 168,-880.5 \"/>\r\n<text text-anchor=\"middle\" x=\"143.5\" y=\"-865.3\" font-family=\"Times New Roman,serif\" font-size=\"14.00\">Type</text>\r\n<polyline fill=\"none\" stroke=\"black\" points=\"168,-857.5 168,-903.5 \"/>\r\n<text text-anchor=\"middle\" x=\"316\" y=\"-888.3\" font-family=\"Times New Roman,serif\" font-size=\"14.00\">dataset1</text>\r\n<polyline fill=\"none\" stroke=\"black\" points=\"168,-880.5 464,-880.5 \"/>\r\n<text text-anchor=\"middle\" x=\"316\" y=\"-865.3\" font-family=\"Times New Roman,serif\" font-size=\"14.00\">PandasDataset(name=&#39;dataset1&#39;, data=DataFrame)</text>\r\n</g>\r\n<!-- node0 -->\r\n<g id=\"node5\" class=\"node\">\r\n<title>node0</title>\r\n<polygon fill=\"none\" stroke=\"black\" points=\"91,-728.5 91,-820.5 460,-820.5 460,-728.5 91,-728.5\"/>\r\n<text text-anchor=\"middle\" x=\"114.5\" y=\"-770.8\" font-family=\"Times New Roman,serif\" font-size=\"14.00\">Node</text>\r\n<polyline fill=\"none\" stroke=\"black\" points=\"138,-728.5 138,-820.5 \"/>\r\n<text text-anchor=\"middle\" x=\"181\" y=\"-805.3\" font-family=\"Times New Roman,serif\" font-size=\"14.00\">Name</text>\r\n<polyline fill=\"none\" stroke=\"black\" points=\"138,-797.5 224,-797.5 \"/>\r\n<text text-anchor=\"middle\" x=\"181\" y=\"-782.3\" font-family=\"Times New Roman,serif\" font-size=\"14.00\">Transformer</text>\r\n<polyline fill=\"none\" stroke=\"black\" points=\"138,-774.5 224,-774.5 \"/>\r\n<text text-anchor=\"middle\" x=\"181\" y=\"-759.3\" font-family=\"Times New Roman,serif\" font-size=\"14.00\">Inputs</text>\r\n<polyline fill=\"none\" stroke=\"black\" points=\"138,-751.5 224,-751.5 \"/>\r\n<text text-anchor=\"middle\" x=\"181\" y=\"-736.3\" font-family=\"Times New Roman,serif\" font-size=\"14.00\">Outputs</text>\r\n<polyline fill=\"none\" stroke=\"black\" points=\"224,-728.5 224,-820.5 \"/>\r\n<text text-anchor=\"middle\" x=\"342\" y=\"-805.3\" font-family=\"Times New Roman,serif\" font-size=\"14.00\">node_0</text>\r\n<polyline fill=\"none\" stroke=\"black\" points=\"224,-797.5 460,-797.5 \"/>\r\n<text text-anchor=\"middle\" x=\"342\" y=\"-782.3\" font-family=\"Times New Roman,serif\" font-size=\"14.00\">ColumnDropper(columns=[&#39;nombres&#39;])</text>\r\n<polyline fill=\"none\" stroke=\"black\" points=\"224,-774.5 460,-774.5 \"/>\r\n<text text-anchor=\"middle\" x=\"342\" y=\"-759.3\" font-family=\"Times New Roman,serif\" font-size=\"14.00\">[&#39;dataset1&#39;]</text>\r\n<polyline fill=\"none\" stroke=\"black\" points=\"224,-751.5 460,-751.5 \"/>\r\n<text text-anchor=\"middle\" x=\"342\" y=\"-736.3\" font-family=\"Times New Roman,serif\" font-size=\"14.00\">[&#39;dataset3&#39;]</text>\r\n</g>\r\n<!-- node_data_i_0&#45;&gt;node0 -->\r\n<g id=\"edge1\" class=\"edge\">\r\n<title>node_data_i_0&#45;&gt;node0</title>\r\n<path fill=\"none\" stroke=\"black\" d=\"M271.56,-857.44C271.94,-849.56 272.39,-840.29 272.84,-830.87\"/>\r\n<polygon fill=\"black\" stroke=\"black\" points=\"276.35,-830.8 273.33,-820.64 269.35,-830.46 276.35,-830.8\"/>\r\n</g>\r\n<!-- node_data_i_1 -->\r\n<g id=\"node2\" class=\"node\">\r\n<title>node_data_i_1</title>\r\n<polygon fill=\"none\" stroke=\"black\" points=\"482,-857.5 482,-903.5 869,-903.5 869,-857.5 482,-857.5\"/>\r\n<text text-anchor=\"middle\" x=\"503\" y=\"-876.8\" font-family=\"Times New Roman,serif\" font-size=\"14.00\">Data</text>\r\n<polyline fill=\"none\" stroke=\"black\" points=\"524,-857.5 524,-903.5 \"/>\r\n<text text-anchor=\"middle\" x=\"548.5\" y=\"-888.3\" font-family=\"Times New Roman,serif\" font-size=\"14.00\">Name</text>\r\n<polyline fill=\"none\" stroke=\"black\" points=\"524,-880.5 573,-880.5 \"/>\r\n<text text-anchor=\"middle\" x=\"548.5\" y=\"-865.3\" font-family=\"Times New Roman,serif\" font-size=\"14.00\">Type</text>\r\n<polyline fill=\"none\" stroke=\"black\" points=\"573,-857.5 573,-903.5 \"/>\r\n<text text-anchor=\"middle\" x=\"721\" y=\"-888.3\" font-family=\"Times New Roman,serif\" font-size=\"14.00\">dataset2</text>\r\n<polyline fill=\"none\" stroke=\"black\" points=\"573,-880.5 869,-880.5 \"/>\r\n<text text-anchor=\"middle\" x=\"721\" y=\"-865.3\" font-family=\"Times New Roman,serif\" font-size=\"14.00\">PandasDataset(name=&#39;dataset2&#39;, data=DataFrame)</text>\r\n</g>\r\n<!-- node1 -->\r\n<g id=\"node6\" class=\"node\">\r\n<title>node1</title>\r\n<polygon fill=\"none\" stroke=\"black\" points=\"480.5,-728.5 480.5,-820.5 864.5,-820.5 864.5,-728.5 480.5,-728.5\"/>\r\n<text text-anchor=\"middle\" x=\"504\" y=\"-770.8\" font-family=\"Times New Roman,serif\" font-size=\"14.00\">Node</text>\r\n<polyline fill=\"none\" stroke=\"black\" points=\"527.5,-728.5 527.5,-820.5 \"/>\r\n<text text-anchor=\"middle\" x=\"570.5\" y=\"-805.3\" font-family=\"Times New Roman,serif\" font-size=\"14.00\">Name</text>\r\n<polyline fill=\"none\" stroke=\"black\" points=\"527.5,-797.5 613.5,-797.5 \"/>\r\n<text text-anchor=\"middle\" x=\"570.5\" y=\"-782.3\" font-family=\"Times New Roman,serif\" font-size=\"14.00\">Transformer</text>\r\n<polyline fill=\"none\" stroke=\"black\" points=\"527.5,-774.5 613.5,-774.5 \"/>\r\n<text text-anchor=\"middle\" x=\"570.5\" y=\"-759.3\" font-family=\"Times New Roman,serif\" font-size=\"14.00\">Inputs</text>\r\n<polyline fill=\"none\" stroke=\"black\" points=\"527.5,-751.5 613.5,-751.5 \"/>\r\n<text text-anchor=\"middle\" x=\"570.5\" y=\"-736.3\" font-family=\"Times New Roman,serif\" font-size=\"14.00\">Outputs</text>\r\n<polyline fill=\"none\" stroke=\"black\" points=\"613.5,-728.5 613.5,-820.5 \"/>\r\n<text text-anchor=\"middle\" x=\"739\" y=\"-805.3\" font-family=\"Times New Roman,serif\" font-size=\"14.00\">drop de numeros_b</text>\r\n<polyline fill=\"none\" stroke=\"black\" points=\"613.5,-797.5 864.5,-797.5 \"/>\r\n<text text-anchor=\"middle\" x=\"739\" y=\"-782.3\" font-family=\"Times New Roman,serif\" font-size=\"14.00\">ColumnDropper(columns=[&#39;numeros_b&#39;])</text>\r\n<polyline fill=\"none\" stroke=\"black\" points=\"613.5,-774.5 864.5,-774.5 \"/>\r\n<text text-anchor=\"middle\" x=\"739\" y=\"-759.3\" font-family=\"Times New Roman,serif\" font-size=\"14.00\">[&#39;dataset2&#39;]</text>\r\n<polyline fill=\"none\" stroke=\"black\" points=\"613.5,-751.5 864.5,-751.5 \"/>\r\n<text text-anchor=\"middle\" x=\"739\" y=\"-736.3\" font-family=\"Times New Roman,serif\" font-size=\"14.00\">[&#39;dataset4&#39;]</text>\r\n</g>\r\n<!-- node_data_i_1&#45;&gt;node1 -->\r\n<g id=\"edge2\" class=\"edge\">\r\n<title>node_data_i_1&#45;&gt;node1</title>\r\n<path fill=\"none\" stroke=\"black\" d=\"M674.86,-857.44C674.64,-849.56 674.37,-840.29 674.1,-830.87\"/>\r\n<polygon fill=\"black\" stroke=\"black\" points=\"677.59,-830.54 673.8,-820.64 670.59,-830.74 677.59,-830.54\"/>\r\n</g>\r\n<!-- node_data_o_0 -->\r\n<g id=\"node3\" class=\"node\">\r\n<title>node_data_o_0</title>\r\n<polygon fill=\"none\" stroke=\"black\" points=\"482.5,-0.5 482.5,-46.5 900.5,-46.5 900.5,-0.5 482.5,-0.5\"/>\r\n<text text-anchor=\"middle\" x=\"503.5\" y=\"-19.8\" font-family=\"Times New Roman,serif\" font-size=\"14.00\">Data</text>\r\n<polyline fill=\"none\" stroke=\"black\" points=\"524.5,-0.5 524.5,-46.5 \"/>\r\n<text text-anchor=\"middle\" x=\"549\" y=\"-31.3\" font-family=\"Times New Roman,serif\" font-size=\"14.00\">Name</text>\r\n<polyline fill=\"none\" stroke=\"black\" points=\"524.5,-23.5 573.5,-23.5 \"/>\r\n<text text-anchor=\"middle\" x=\"549\" y=\"-8.3\" font-family=\"Times New Roman,serif\" font-size=\"14.00\">Type</text>\r\n<polyline fill=\"none\" stroke=\"black\" points=\"573.5,-0.5 573.5,-46.5 \"/>\r\n<text text-anchor=\"middle\" x=\"737\" y=\"-31.3\" font-family=\"Times New Roman,serif\" font-size=\"14.00\">dataset8_final</text>\r\n<polyline fill=\"none\" stroke=\"black\" points=\"573.5,-23.5 900.5,-23.5 \"/>\r\n<text text-anchor=\"middle\" x=\"737\" y=\"-8.3\" font-family=\"Times New Roman,serif\" font-size=\"14.00\">PandasDataset(name=&#39;dataset8_final&#39;, data=DataFrame)</text>\r\n</g>\r\n<!-- node_data_o_1 -->\r\n<g id=\"node4\" class=\"node\">\r\n<title>node_data_o_1</title>\r\n<polygon fill=\"none\" stroke=\"black\" points=\"46.5,-0.5 46.5,-46.5 464.5,-46.5 464.5,-0.5 46.5,-0.5\"/>\r\n<text text-anchor=\"middle\" x=\"67.5\" y=\"-19.8\" font-family=\"Times New Roman,serif\" font-size=\"14.00\">Data</text>\r\n<polyline fill=\"none\" stroke=\"black\" points=\"88.5,-0.5 88.5,-46.5 \"/>\r\n<text text-anchor=\"middle\" x=\"113\" y=\"-31.3\" font-family=\"Times New Roman,serif\" font-size=\"14.00\">Name</text>\r\n<polyline fill=\"none\" stroke=\"black\" points=\"88.5,-23.5 137.5,-23.5 \"/>\r\n<text text-anchor=\"middle\" x=\"113\" y=\"-8.3\" font-family=\"Times New Roman,serif\" font-size=\"14.00\">Type</text>\r\n<polyline fill=\"none\" stroke=\"black\" points=\"137.5,-0.5 137.5,-46.5 \"/>\r\n<text text-anchor=\"middle\" x=\"301\" y=\"-31.3\" font-family=\"Times New Roman,serif\" font-size=\"14.00\">dataset7_final</text>\r\n<polyline fill=\"none\" stroke=\"black\" points=\"137.5,-23.5 464.5,-23.5 \"/>\r\n<text text-anchor=\"middle\" x=\"301\" y=\"-8.3\" font-family=\"Times New Roman,serif\" font-size=\"14.00\">PandasDataset(name=&#39;dataset7_final&#39;, data=DataFrame)</text>\r\n</g>\r\n<!-- node2 -->\r\n<g id=\"node7\" class=\"node\">\r\n<title>node2</title>\r\n<polygon fill=\"none\" stroke=\"black\" points=\"0,-599.5 0,-691.5 945,-691.5 945,-599.5 0,-599.5\"/>\r\n<text text-anchor=\"middle\" x=\"23.5\" y=\"-641.8\" font-family=\"Times New Roman,serif\" font-size=\"14.00\">Node</text>\r\n<polyline fill=\"none\" stroke=\"black\" points=\"47,-599.5 47,-691.5 \"/>\r\n<text text-anchor=\"middle\" x=\"90\" y=\"-676.3\" font-family=\"Times New Roman,serif\" font-size=\"14.00\">Name</text>\r\n<polyline fill=\"none\" stroke=\"black\" points=\"47,-668.5 133,-668.5 \"/>\r\n<text text-anchor=\"middle\" x=\"90\" y=\"-653.3\" font-family=\"Times New Roman,serif\" font-size=\"14.00\">Transformer</text>\r\n<polyline fill=\"none\" stroke=\"black\" points=\"47,-645.5 133,-645.5 \"/>\r\n<text text-anchor=\"middle\" x=\"90\" y=\"-630.3\" font-family=\"Times New Roman,serif\" font-size=\"14.00\">Inputs</text>\r\n<polyline fill=\"none\" stroke=\"black\" points=\"47,-622.5 133,-622.5 \"/>\r\n<text text-anchor=\"middle\" x=\"90\" y=\"-607.3\" font-family=\"Times New Roman,serif\" font-size=\"14.00\">Outputs</text>\r\n<polyline fill=\"none\" stroke=\"black\" points=\"133,-599.5 133,-691.5 \"/>\r\n<text text-anchor=\"middle\" x=\"539\" y=\"-676.3\" font-family=\"Times New Roman,serif\" font-size=\"14.00\">nodo join</text>\r\n<polyline fill=\"none\" stroke=\"black\" points=\"133,-668.5 945,-668.5 \"/>\r\n<text text-anchor=\"middle\" x=\"539\" y=\"-653.3\" font-family=\"Times New Roman,serif\" font-size=\"14.00\">JoinTransformer(how=&#39;outer&#39;, left_on=&#39;letras_a&#39;, right_on=&#39;letras_b&#39;, left_index=False, right_index=False, suffixes=tuple, merge_kwargs=dict)</text>\r\n<polyline fill=\"none\" stroke=\"black\" points=\"133,-645.5 945,-645.5 \"/>\r\n<text text-anchor=\"middle\" x=\"539\" y=\"-630.3\" font-family=\"Times New Roman,serif\" font-size=\"14.00\">[&#39;dataset3&#39;, &#39;dataset4&#39;]</text>\r\n<polyline fill=\"none\" stroke=\"black\" points=\"133,-622.5 945,-622.5 \"/>\r\n<text text-anchor=\"middle\" x=\"539\" y=\"-607.3\" font-family=\"Times New Roman,serif\" font-size=\"14.00\">[&#39;dataset5&#39;]</text>\r\n</g>\r\n<!-- node0&#45;&gt;node2 -->\r\n<g id=\"edge8\" class=\"edge\">\r\n<title>node0&#45;&gt;node2</title>\r\n<path fill=\"none\" stroke=\"black\" d=\"M345.51,-728.37C361.09,-718.32 377.72,-707.6 393.63,-697.35\"/>\r\n<polygon fill=\"black\" stroke=\"black\" points=\"395.88,-700.06 402.38,-691.7 392.08,-694.18 395.88,-700.06\"/>\r\n</g>\r\n<!-- node1&#45;&gt;node2 -->\r\n<g id=\"edge9\" class=\"edge\">\r\n<title>node1&#45;&gt;node2</title>\r\n<path fill=\"none\" stroke=\"black\" d=\"M601.42,-728.37C585.6,-718.32 568.73,-707.6 552.57,-697.35\"/>\r\n<polygon fill=\"black\" stroke=\"black\" points=\"554,-694.11 543.68,-691.7 550.25,-700.02 554,-694.11\"/>\r\n</g>\r\n<!-- node3 -->\r\n<g id=\"node8\" class=\"node\">\r\n<title>node3</title>\r\n<polygon fill=\"none\" stroke=\"black\" points=\"230,-470.5 230,-562.5 715,-562.5 715,-470.5 230,-470.5\"/>\r\n<text text-anchor=\"middle\" x=\"253.5\" y=\"-512.8\" font-family=\"Times New Roman,serif\" font-size=\"14.00\">Node</text>\r\n<polyline fill=\"none\" stroke=\"black\" points=\"277,-470.5 277,-562.5 \"/>\r\n<text text-anchor=\"middle\" x=\"320\" y=\"-547.3\" font-family=\"Times New Roman,serif\" font-size=\"14.00\">Name</text>\r\n<polyline fill=\"none\" stroke=\"black\" points=\"277,-539.5 363,-539.5 \"/>\r\n<text text-anchor=\"middle\" x=\"320\" y=\"-524.3\" font-family=\"Times New Roman,serif\" font-size=\"14.00\">Transformer</text>\r\n<polyline fill=\"none\" stroke=\"black\" points=\"277,-516.5 363,-516.5 \"/>\r\n<text text-anchor=\"middle\" x=\"320\" y=\"-501.3\" font-family=\"Times New Roman,serif\" font-size=\"14.00\">Inputs</text>\r\n<polyline fill=\"none\" stroke=\"black\" points=\"277,-493.5 363,-493.5 \"/>\r\n<text text-anchor=\"middle\" x=\"320\" y=\"-478.3\" font-family=\"Times New Roman,serif\" font-size=\"14.00\">Outputs</text>\r\n<polyline fill=\"none\" stroke=\"black\" points=\"363,-470.5 363,-562.5 \"/>\r\n<text text-anchor=\"middle\" x=\"539\" y=\"-547.3\" font-family=\"Times New Roman,serif\" font-size=\"14.00\">node_3</text>\r\n<polyline fill=\"none\" stroke=\"black\" points=\"363,-539.5 715,-539.5 \"/>\r\n<text text-anchor=\"middle\" x=\"539\" y=\"-524.3\" font-family=\"Times New Roman,serif\" font-size=\"14.00\">ModeImputer(column=&#39;tipo_a&#39;, impute_value=&#39;consonante&#39;)</text>\r\n<polyline fill=\"none\" stroke=\"black\" points=\"363,-516.5 715,-516.5 \"/>\r\n<text text-anchor=\"middle\" x=\"539\" y=\"-501.3\" font-family=\"Times New Roman,serif\" font-size=\"14.00\">[&#39;dataset5&#39;]</text>\r\n<polyline fill=\"none\" stroke=\"black\" points=\"363,-493.5 715,-493.5 \"/>\r\n<text text-anchor=\"middle\" x=\"539\" y=\"-478.3\" font-family=\"Times New Roman,serif\" font-size=\"14.00\">[&#39;dataset6&#39;]</text>\r\n</g>\r\n<!-- node2&#45;&gt;node3 -->\r\n<g id=\"edge7\" class=\"edge\">\r\n<title>node2&#45;&gt;node3</title>\r\n<path fill=\"none\" stroke=\"black\" d=\"M472.5,-599.37C472.5,-590.86 472.5,-581.87 472.5,-573.09\"/>\r\n<polygon fill=\"black\" stroke=\"black\" points=\"476,-572.92 472.5,-562.92 469,-572.92 476,-572.92\"/>\r\n</g>\r\n<!-- node4 -->\r\n<g id=\"node9\" class=\"node\">\r\n<title>node4</title>\r\n<polygon fill=\"none\" stroke=\"black\" points=\"251,-341.5 251,-433.5 694,-433.5 694,-341.5 251,-341.5\"/>\r\n<text text-anchor=\"middle\" x=\"274.5\" y=\"-383.8\" font-family=\"Times New Roman,serif\" font-size=\"14.00\">Node</text>\r\n<polyline fill=\"none\" stroke=\"black\" points=\"298,-341.5 298,-433.5 \"/>\r\n<text text-anchor=\"middle\" x=\"341\" y=\"-418.3\" font-family=\"Times New Roman,serif\" font-size=\"14.00\">Name</text>\r\n<polyline fill=\"none\" stroke=\"black\" points=\"298,-410.5 384,-410.5 \"/>\r\n<text text-anchor=\"middle\" x=\"341\" y=\"-395.3\" font-family=\"Times New Roman,serif\" font-size=\"14.00\">Transformer</text>\r\n<polyline fill=\"none\" stroke=\"black\" points=\"298,-387.5 384,-387.5 \"/>\r\n<text text-anchor=\"middle\" x=\"341\" y=\"-372.3\" font-family=\"Times New Roman,serif\" font-size=\"14.00\">Inputs</text>\r\n<polyline fill=\"none\" stroke=\"black\" points=\"298,-364.5 384,-364.5 \"/>\r\n<text text-anchor=\"middle\" x=\"341\" y=\"-349.3\" font-family=\"Times New Roman,serif\" font-size=\"14.00\">Outputs</text>\r\n<polyline fill=\"none\" stroke=\"black\" points=\"384,-341.5 384,-433.5 \"/>\r\n<text text-anchor=\"middle\" x=\"539\" y=\"-418.3\" font-family=\"Times New Roman,serif\" font-size=\"14.00\">node_4</text>\r\n<polyline fill=\"none\" stroke=\"black\" points=\"384,-410.5 694,-410.5 \"/>\r\n<text text-anchor=\"middle\" x=\"539\" y=\"-395.3\" font-family=\"Times New Roman,serif\" font-size=\"14.00\">DataCheckPoint(save_path=&#39;../data/checkpoint.csv&#39;)</text>\r\n<polyline fill=\"none\" stroke=\"black\" points=\"384,-387.5 694,-387.5 \"/>\r\n<text text-anchor=\"middle\" x=\"539\" y=\"-372.3\" font-family=\"Times New Roman,serif\" font-size=\"14.00\">[&#39;dataset6&#39;]</text>\r\n<polyline fill=\"none\" stroke=\"black\" points=\"384,-364.5 694,-364.5 \"/>\r\n<text text-anchor=\"middle\" x=\"539\" y=\"-349.3\" font-family=\"Times New Roman,serif\" font-size=\"14.00\">[&#39;dataset6&#39;]</text>\r\n</g>\r\n<!-- node3&#45;&gt;node4 -->\r\n<g id=\"edge6\" class=\"edge\">\r\n<title>node3&#45;&gt;node4</title>\r\n<path fill=\"none\" stroke=\"black\" d=\"M472.5,-470.37C472.5,-461.86 472.5,-452.87 472.5,-444.09\"/>\r\n<polygon fill=\"black\" stroke=\"black\" points=\"476,-443.92 472.5,-433.92 469,-443.92 476,-443.92\"/>\r\n</g>\r\n<!-- node5 -->\r\n<g id=\"node10\" class=\"node\">\r\n<title>node5</title>\r\n<polygon fill=\"none\" stroke=\"black\" points=\"246.5,-212.5 246.5,-304.5 698.5,-304.5 698.5,-212.5 246.5,-212.5\"/>\r\n<text text-anchor=\"middle\" x=\"270\" y=\"-254.8\" font-family=\"Times New Roman,serif\" font-size=\"14.00\">Node</text>\r\n<polyline fill=\"none\" stroke=\"black\" points=\"293.5,-212.5 293.5,-304.5 \"/>\r\n<text text-anchor=\"middle\" x=\"336.5\" y=\"-289.3\" font-family=\"Times New Roman,serif\" font-size=\"14.00\">Name</text>\r\n<polyline fill=\"none\" stroke=\"black\" points=\"293.5,-281.5 379.5,-281.5 \"/>\r\n<text text-anchor=\"middle\" x=\"336.5\" y=\"-266.3\" font-family=\"Times New Roman,serif\" font-size=\"14.00\">Transformer</text>\r\n<polyline fill=\"none\" stroke=\"black\" points=\"293.5,-258.5 379.5,-258.5 \"/>\r\n<text text-anchor=\"middle\" x=\"336.5\" y=\"-243.3\" font-family=\"Times New Roman,serif\" font-size=\"14.00\">Inputs</text>\r\n<polyline fill=\"none\" stroke=\"black\" points=\"293.5,-235.5 379.5,-235.5 \"/>\r\n<text text-anchor=\"middle\" x=\"336.5\" y=\"-220.3\" font-family=\"Times New Roman,serif\" font-size=\"14.00\">Outputs</text>\r\n<polyline fill=\"none\" stroke=\"black\" points=\"379.5,-212.5 379.5,-304.5 \"/>\r\n<text text-anchor=\"middle\" x=\"539\" y=\"-289.3\" font-family=\"Times New Roman,serif\" font-size=\"14.00\">node_5</text>\r\n<polyline fill=\"none\" stroke=\"black\" points=\"379.5,-281.5 698.5,-281.5 \"/>\r\n<text text-anchor=\"middle\" x=\"539\" y=\"-266.3\" font-family=\"Times New Roman,serif\" font-size=\"14.00\">DataframeTransformer(function=duplicate_dataframe)</text>\r\n<polyline fill=\"none\" stroke=\"black\" points=\"379.5,-258.5 698.5,-258.5 \"/>\r\n<text text-anchor=\"middle\" x=\"539\" y=\"-243.3\" font-family=\"Times New Roman,serif\" font-size=\"14.00\">[&#39;dataset6&#39;]</text>\r\n<polyline fill=\"none\" stroke=\"black\" points=\"379.5,-235.5 698.5,-235.5 \"/>\r\n<text text-anchor=\"middle\" x=\"539\" y=\"-220.3\" font-family=\"Times New Roman,serif\" font-size=\"14.00\">[&#39;dataset7&#39;, &#39;dataset8&#39;]</text>\r\n</g>\r\n<!-- node4&#45;&gt;node5 -->\r\n<g id=\"edge5\" class=\"edge\">\r\n<title>node4&#45;&gt;node5</title>\r\n<path fill=\"none\" stroke=\"black\" d=\"M472.5,-341.37C472.5,-332.86 472.5,-323.87 472.5,-315.09\"/>\r\n<polygon fill=\"black\" stroke=\"black\" points=\"476,-314.92 472.5,-304.92 469,-314.92 476,-314.92\"/>\r\n</g>\r\n<!-- node6 -->\r\n<g id=\"node11\" class=\"node\">\r\n<title>node6</title>\r\n<polygon fill=\"none\" stroke=\"black\" points=\"75,-83.5 75,-175.5 464,-175.5 464,-83.5 75,-83.5\"/>\r\n<text text-anchor=\"middle\" x=\"98.5\" y=\"-125.8\" font-family=\"Times New Roman,serif\" font-size=\"14.00\">Node</text>\r\n<polyline fill=\"none\" stroke=\"black\" points=\"122,-83.5 122,-175.5 \"/>\r\n<text text-anchor=\"middle\" x=\"165\" y=\"-160.3\" font-family=\"Times New Roman,serif\" font-size=\"14.00\">Name</text>\r\n<polyline fill=\"none\" stroke=\"black\" points=\"122,-152.5 208,-152.5 \"/>\r\n<text text-anchor=\"middle\" x=\"165\" y=\"-137.3\" font-family=\"Times New Roman,serif\" font-size=\"14.00\">Transformer</text>\r\n<polyline fill=\"none\" stroke=\"black\" points=\"122,-129.5 208,-129.5 \"/>\r\n<text text-anchor=\"middle\" x=\"165\" y=\"-114.3\" font-family=\"Times New Roman,serif\" font-size=\"14.00\">Inputs</text>\r\n<polyline fill=\"none\" stroke=\"black\" points=\"122,-106.5 208,-106.5 \"/>\r\n<text text-anchor=\"middle\" x=\"165\" y=\"-91.3\" font-family=\"Times New Roman,serif\" font-size=\"14.00\">Outputs</text>\r\n<polyline fill=\"none\" stroke=\"black\" points=\"208,-83.5 208,-175.5 \"/>\r\n<text text-anchor=\"middle\" x=\"336\" y=\"-160.3\" font-family=\"Times New Roman,serif\" font-size=\"14.00\">node_6</text>\r\n<polyline fill=\"none\" stroke=\"black\" points=\"208,-152.5 464,-152.5 \"/>\r\n<text text-anchor=\"middle\" x=\"336\" y=\"-137.3\" font-family=\"Times New Roman,serif\" font-size=\"14.00\">DataframeTransformer(function=do_none)</text>\r\n<polyline fill=\"none\" stroke=\"black\" points=\"208,-129.5 464,-129.5 \"/>\r\n<text text-anchor=\"middle\" x=\"336\" y=\"-114.3\" font-family=\"Times New Roman,serif\" font-size=\"14.00\">[&#39;dataset7&#39;]</text>\r\n<polyline fill=\"none\" stroke=\"black\" points=\"208,-106.5 464,-106.5 \"/>\r\n<text text-anchor=\"middle\" x=\"336\" y=\"-91.3\" font-family=\"Times New Roman,serif\" font-size=\"14.00\">[&#39;dataset7_final&#39;]</text>\r\n</g>\r\n<!-- node5&#45;&gt;node6 -->\r\n<g id=\"edge4\" class=\"edge\">\r\n<title>node5&#45;&gt;node6</title>\r\n<path fill=\"none\" stroke=\"black\" d=\"M400.36,-212.37C384.15,-202.23 366.85,-191.41 350.32,-181.06\"/>\r\n<polygon fill=\"black\" stroke=\"black\" points=\"352.09,-178.04 341.75,-175.7 348.37,-183.97 352.09,-178.04\"/>\r\n</g>\r\n<!-- node7 -->\r\n<g id=\"node12\" class=\"node\">\r\n<title>node7</title>\r\n<polygon fill=\"none\" stroke=\"black\" points=\"489,-83.5 489,-175.5 878,-175.5 878,-83.5 489,-83.5\"/>\r\n<text text-anchor=\"middle\" x=\"512.5\" y=\"-125.8\" font-family=\"Times New Roman,serif\" font-size=\"14.00\">Node</text>\r\n<polyline fill=\"none\" stroke=\"black\" points=\"536,-83.5 536,-175.5 \"/>\r\n<text text-anchor=\"middle\" x=\"579\" y=\"-160.3\" font-family=\"Times New Roman,serif\" font-size=\"14.00\">Name</text>\r\n<polyline fill=\"none\" stroke=\"black\" points=\"536,-152.5 622,-152.5 \"/>\r\n<text text-anchor=\"middle\" x=\"579\" y=\"-137.3\" font-family=\"Times New Roman,serif\" font-size=\"14.00\">Transformer</text>\r\n<polyline fill=\"none\" stroke=\"black\" points=\"536,-129.5 622,-129.5 \"/>\r\n<text text-anchor=\"middle\" x=\"579\" y=\"-114.3\" font-family=\"Times New Roman,serif\" font-size=\"14.00\">Inputs</text>\r\n<polyline fill=\"none\" stroke=\"black\" points=\"536,-106.5 622,-106.5 \"/>\r\n<text text-anchor=\"middle\" x=\"579\" y=\"-91.3\" font-family=\"Times New Roman,serif\" font-size=\"14.00\">Outputs</text>\r\n<polyline fill=\"none\" stroke=\"black\" points=\"622,-83.5 622,-175.5 \"/>\r\n<text text-anchor=\"middle\" x=\"750\" y=\"-160.3\" font-family=\"Times New Roman,serif\" font-size=\"14.00\">node_7</text>\r\n<polyline fill=\"none\" stroke=\"black\" points=\"622,-152.5 878,-152.5 \"/>\r\n<text text-anchor=\"middle\" x=\"750\" y=\"-137.3\" font-family=\"Times New Roman,serif\" font-size=\"14.00\">DataframeTransformer(function=do_none)</text>\r\n<polyline fill=\"none\" stroke=\"black\" points=\"622,-129.5 878,-129.5 \"/>\r\n<text text-anchor=\"middle\" x=\"750\" y=\"-114.3\" font-family=\"Times New Roman,serif\" font-size=\"14.00\">[&#39;dataset8&#39;]</text>\r\n<polyline fill=\"none\" stroke=\"black\" points=\"622,-106.5 878,-106.5 \"/>\r\n<text text-anchor=\"middle\" x=\"750\" y=\"-91.3\" font-family=\"Times New Roman,serif\" font-size=\"14.00\">[&#39;dataset8_final&#39;]</text>\r\n</g>\r\n<!-- node5&#45;&gt;node7 -->\r\n<g id=\"edge3\" class=\"edge\">\r\n<title>node5&#45;&gt;node7</title>\r\n<path fill=\"none\" stroke=\"black\" d=\"M547.48,-212.37C564.33,-202.23 582.31,-191.41 599.5,-181.06\"/>\r\n<polygon fill=\"black\" stroke=\"black\" points=\"601.64,-183.86 608.4,-175.7 598.03,-177.86 601.64,-183.86\"/>\r\n</g>\r\n<!-- node6&#45;&gt;node_data_o_1 -->\r\n<g id=\"edge11\" class=\"edge\">\r\n<title>node6&#45;&gt;node_data_o_1</title>\r\n<path fill=\"none\" stroke=\"black\" d=\"M263.44,-83.49C262.24,-74.53 260.99,-65.3 259.86,-56.87\"/>\r\n<polygon fill=\"black\" stroke=\"black\" points=\"263.29,-56.15 258.49,-46.7 256.35,-57.08 263.29,-56.15\"/>\r\n</g>\r\n<!-- node7&#45;&gt;node_data_o_0 -->\r\n<g id=\"edge10\" class=\"edge\">\r\n<title>node7&#45;&gt;node_data_o_0</title>\r\n<path fill=\"none\" stroke=\"black\" d=\"M686.96,-83.49C687.65,-74.53 688.36,-65.3 689.01,-56.87\"/>\r\n<polygon fill=\"black\" stroke=\"black\" points=\"692.51,-56.94 689.79,-46.7 685.54,-56.41 692.51,-56.94\"/>\r\n</g>\r\n</g>\r\n</svg>\r\n",
      "text/plain": [
       "<graphviz.dot.Digraph at 0x177285e7640>"
      ]
     },
     "execution_count": 14,
     "metadata": {},
     "output_type": "execute_result"
    }
   ],
   "source": [
    "from wrangler.extras import plot_wrangler\n",
    "\n",
    "plot_wrangler(new_wrangler)"
   ]
  }
 ],
 "metadata": {
  "interpreter": {
   "hash": "477c64429a66b88dbea596d2fd7dadb0d3a75c4333ee684689ddf8e8bb5bf8be"
  },
  "kernelspec": {
   "display_name": "Python 3.8.5 64-bit ('base': conda)",
   "name": "python3"
  },
  "language_info": {
   "codemirror_mode": {
    "name": "ipython",
    "version": 3
   },
   "file_extension": ".py",
   "mimetype": "text/x-python",
   "name": "python",
   "nbconvert_exporter": "python",
   "pygments_lexer": "ipython3",
   "version": "3.8.5"
  },
  "orig_nbformat": 4
 },
 "nbformat": 4,
 "nbformat_minor": 2
}
