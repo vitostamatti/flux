{
 "cells": [
  {
   "cell_type": "markdown",
   "metadata": {},
   "source": [
    "# Ejemplo de Clustering"
   ]
  },
  {
   "cell_type": "code",
   "execution_count": 1,
   "metadata": {},
   "outputs": [],
   "source": [
    "import pandas as pd\n",
    "import numpy as np\n",
    "from wrangler import Wrangler\n",
    "from wrangler.data import PandasDataset, CSVDataset\n",
    "import wrangler.transformers as tr\n",
    "import wrangler.transformers.text as text_tr\n",
    "import wrangler.transformers.ml as ml_tr\n",
    "import wrangler.transformers.numeric as n_tr\n",
    "from wrangler import logger as wrangler_logger\n",
    "from sklearn.ensemble import RandomForestClassifier\n",
    "\n",
    "import matplotlib.pyplot as plt\n",
    "\n",
    "# Uncomment for console logging \n",
    "wrangler_logger.enable()"
   ]
  },
  {
   "cell_type": "code",
   "execution_count": 2,
   "metadata": {},
   "outputs": [],
   "source": [
    "from sklearn.datasets import make_blobs\n",
    "from sklearn.model_selection import train_test_split\n",
    "n_features = 10\n",
    "n_centers = 3\n",
    "X, _ = make_blobs(n_samples=200, centers=n_centers, n_features=n_features, random_state=0)\n",
    "X = pd.DataFrame(X, columns = [f'Var{var}' for var in range(X.shape[1])])\n",
    "\n",
    "X[f'Var{n_features}'] = X['Var0'].apply(lambda x: \"Cat1\" if np.random.rand()<0.5 else \"Cat2\")\n",
    "X[f'Var{n_features+1}'] = X['Var0'].apply(lambda x: np.random.choice([f\"Cat{n}\" for n in range(10)]))\n",
    "\n",
    "X_train, X_test = train_test_split(X, test_size=0.1)"
   ]
  },
  {
   "cell_type": "code",
   "execution_count": 3,
   "metadata": {},
   "outputs": [
    {
     "data": {
      "text/html": [
       "<div>\n",
       "<style scoped>\n",
       "    .dataframe tbody tr th:only-of-type {\n",
       "        vertical-align: middle;\n",
       "    }\n",
       "\n",
       "    .dataframe tbody tr th {\n",
       "        vertical-align: top;\n",
       "    }\n",
       "\n",
       "    .dataframe thead th {\n",
       "        text-align: right;\n",
       "    }\n",
       "</style>\n",
       "<table border=\"1\" class=\"dataframe\">\n",
       "  <thead>\n",
       "    <tr style=\"text-align: right;\">\n",
       "      <th></th>\n",
       "      <th>Var0</th>\n",
       "      <th>Var1</th>\n",
       "      <th>Var2</th>\n",
       "      <th>Var3</th>\n",
       "      <th>Var4</th>\n",
       "      <th>Var5</th>\n",
       "      <th>Var6</th>\n",
       "      <th>Var7</th>\n",
       "      <th>Var8</th>\n",
       "      <th>Var9</th>\n",
       "      <th>Var10</th>\n",
       "      <th>Var11</th>\n",
       "    </tr>\n",
       "  </thead>\n",
       "  <tbody>\n",
       "    <tr>\n",
       "      <th>181</th>\n",
       "      <td>8.359499</td>\n",
       "      <td>6.266941</td>\n",
       "      <td>-1.052609</td>\n",
       "      <td>4.452380</td>\n",
       "      <td>-9.253871</td>\n",
       "      <td>2.287380</td>\n",
       "      <td>-5.392305</td>\n",
       "      <td>8.599893</td>\n",
       "      <td>1.354188</td>\n",
       "      <td>-1.763804</td>\n",
       "      <td>Cat1</td>\n",
       "      <td>Cat2</td>\n",
       "    </tr>\n",
       "    <tr>\n",
       "      <th>137</th>\n",
       "      <td>0.667156</td>\n",
       "      <td>4.070321</td>\n",
       "      <td>3.787989</td>\n",
       "      <td>1.582165</td>\n",
       "      <td>-1.156079</td>\n",
       "      <td>3.059944</td>\n",
       "      <td>0.271739</td>\n",
       "      <td>9.555049</td>\n",
       "      <td>10.202760</td>\n",
       "      <td>-1.748945</td>\n",
       "      <td>Cat1</td>\n",
       "      <td>Cat5</td>\n",
       "    </tr>\n",
       "    <tr>\n",
       "      <th>117</th>\n",
       "      <td>7.980919</td>\n",
       "      <td>5.986394</td>\n",
       "      <td>-1.827886</td>\n",
       "      <td>5.054598</td>\n",
       "      <td>-7.607773</td>\n",
       "      <td>2.981871</td>\n",
       "      <td>-7.603677</td>\n",
       "      <td>9.166175</td>\n",
       "      <td>1.254944</td>\n",
       "      <td>-1.985675</td>\n",
       "      <td>Cat2</td>\n",
       "      <td>Cat6</td>\n",
       "    </tr>\n",
       "    <tr>\n",
       "      <th>56</th>\n",
       "      <td>6.041191</td>\n",
       "      <td>1.108941</td>\n",
       "      <td>1.600037</td>\n",
       "      <td>9.909829</td>\n",
       "      <td>-8.524107</td>\n",
       "      <td>-7.958437</td>\n",
       "      <td>-7.947128</td>\n",
       "      <td>5.102383</td>\n",
       "      <td>5.107310</td>\n",
       "      <td>8.826402</td>\n",
       "      <td>Cat2</td>\n",
       "      <td>Cat7</td>\n",
       "    </tr>\n",
       "    <tr>\n",
       "      <th>19</th>\n",
       "      <td>5.627556</td>\n",
       "      <td>-0.100197</td>\n",
       "      <td>2.114883</td>\n",
       "      <td>9.577248</td>\n",
       "      <td>-7.593961</td>\n",
       "      <td>-7.490494</td>\n",
       "      <td>-9.193007</td>\n",
       "      <td>4.876509</td>\n",
       "      <td>7.232386</td>\n",
       "      <td>7.702232</td>\n",
       "      <td>Cat2</td>\n",
       "      <td>Cat3</td>\n",
       "    </tr>\n",
       "    <tr>\n",
       "      <th>...</th>\n",
       "      <td>...</td>\n",
       "      <td>...</td>\n",
       "      <td>...</td>\n",
       "      <td>...</td>\n",
       "      <td>...</td>\n",
       "      <td>...</td>\n",
       "      <td>...</td>\n",
       "      <td>...</td>\n",
       "      <td>...</td>\n",
       "      <td>...</td>\n",
       "      <td>...</td>\n",
       "      <td>...</td>\n",
       "    </tr>\n",
       "    <tr>\n",
       "      <th>189</th>\n",
       "      <td>6.764909</td>\n",
       "      <td>0.402582</td>\n",
       "      <td>-0.061029</td>\n",
       "      <td>10.509889</td>\n",
       "      <td>-9.435828</td>\n",
       "      <td>-9.799001</td>\n",
       "      <td>-7.001207</td>\n",
       "      <td>6.248365</td>\n",
       "      <td>4.101402</td>\n",
       "      <td>6.716803</td>\n",
       "      <td>Cat2</td>\n",
       "      <td>Cat9</td>\n",
       "    </tr>\n",
       "    <tr>\n",
       "      <th>1</th>\n",
       "      <td>7.393435</td>\n",
       "      <td>5.353521</td>\n",
       "      <td>-1.423697</td>\n",
       "      <td>5.689098</td>\n",
       "      <td>-7.216711</td>\n",
       "      <td>1.558204</td>\n",
       "      <td>-6.232880</td>\n",
       "      <td>10.695621</td>\n",
       "      <td>0.228681</td>\n",
       "      <td>-0.132390</td>\n",
       "      <td>Cat1</td>\n",
       "      <td>Cat4</td>\n",
       "    </tr>\n",
       "    <tr>\n",
       "      <th>35</th>\n",
       "      <td>0.936987</td>\n",
       "      <td>3.135694</td>\n",
       "      <td>2.578544</td>\n",
       "      <td>0.726117</td>\n",
       "      <td>-0.755113</td>\n",
       "      <td>3.741386</td>\n",
       "      <td>0.914980</td>\n",
       "      <td>9.171988</td>\n",
       "      <td>8.904073</td>\n",
       "      <td>-2.570549</td>\n",
       "      <td>Cat2</td>\n",
       "      <td>Cat7</td>\n",
       "    </tr>\n",
       "    <tr>\n",
       "      <th>152</th>\n",
       "      <td>5.045832</td>\n",
       "      <td>1.672537</td>\n",
       "      <td>1.595713</td>\n",
       "      <td>10.644086</td>\n",
       "      <td>-7.642833</td>\n",
       "      <td>-8.292509</td>\n",
       "      <td>-8.330554</td>\n",
       "      <td>6.863894</td>\n",
       "      <td>4.858214</td>\n",
       "      <td>8.080218</td>\n",
       "      <td>Cat2</td>\n",
       "      <td>Cat1</td>\n",
       "    </tr>\n",
       "    <tr>\n",
       "      <th>10</th>\n",
       "      <td>9.589882</td>\n",
       "      <td>6.306797</td>\n",
       "      <td>-1.104204</td>\n",
       "      <td>5.590454</td>\n",
       "      <td>-6.859488</td>\n",
       "      <td>3.231258</td>\n",
       "      <td>-7.941652</td>\n",
       "      <td>7.789254</td>\n",
       "      <td>-0.352136</td>\n",
       "      <td>-1.705513</td>\n",
       "      <td>Cat1</td>\n",
       "      <td>Cat4</td>\n",
       "    </tr>\n",
       "  </tbody>\n",
       "</table>\n",
       "<p>180 rows × 12 columns</p>\n",
       "</div>"
      ],
      "text/plain": [
       "         Var0      Var1      Var2       Var3      Var4      Var5      Var6  \\\n",
       "181  8.359499  6.266941 -1.052609   4.452380 -9.253871  2.287380 -5.392305   \n",
       "137  0.667156  4.070321  3.787989   1.582165 -1.156079  3.059944  0.271739   \n",
       "117  7.980919  5.986394 -1.827886   5.054598 -7.607773  2.981871 -7.603677   \n",
       "56   6.041191  1.108941  1.600037   9.909829 -8.524107 -7.958437 -7.947128   \n",
       "19   5.627556 -0.100197  2.114883   9.577248 -7.593961 -7.490494 -9.193007   \n",
       "..        ...       ...       ...        ...       ...       ...       ...   \n",
       "189  6.764909  0.402582 -0.061029  10.509889 -9.435828 -9.799001 -7.001207   \n",
       "1    7.393435  5.353521 -1.423697   5.689098 -7.216711  1.558204 -6.232880   \n",
       "35   0.936987  3.135694  2.578544   0.726117 -0.755113  3.741386  0.914980   \n",
       "152  5.045832  1.672537  1.595713  10.644086 -7.642833 -8.292509 -8.330554   \n",
       "10   9.589882  6.306797 -1.104204   5.590454 -6.859488  3.231258 -7.941652   \n",
       "\n",
       "          Var7       Var8      Var9 Var10 Var11  \n",
       "181   8.599893   1.354188 -1.763804  Cat1  Cat2  \n",
       "137   9.555049  10.202760 -1.748945  Cat1  Cat5  \n",
       "117   9.166175   1.254944 -1.985675  Cat2  Cat6  \n",
       "56    5.102383   5.107310  8.826402  Cat2  Cat7  \n",
       "19    4.876509   7.232386  7.702232  Cat2  Cat3  \n",
       "..         ...        ...       ...   ...   ...  \n",
       "189   6.248365   4.101402  6.716803  Cat2  Cat9  \n",
       "1    10.695621   0.228681 -0.132390  Cat1  Cat4  \n",
       "35    9.171988   8.904073 -2.570549  Cat2  Cat7  \n",
       "152   6.863894   4.858214  8.080218  Cat2  Cat1  \n",
       "10    7.789254  -0.352136 -1.705513  Cat1  Cat4  \n",
       "\n",
       "[180 rows x 12 columns]"
      ]
     },
     "execution_count": 3,
     "metadata": {},
     "output_type": "execute_result"
    }
   ],
   "source": [
    "X_train"
   ]
  },
  {
   "cell_type": "code",
   "execution_count": 4,
   "metadata": {},
   "outputs": [
    {
     "name": "stderr",
     "output_type": "stream",
     "text": [
      "2022-02-25 at 10:52:41 | INFO | catalog | Adding dataset: intermediate\n"
     ]
    }
   ],
   "source": [
    "wrangler = Wrangler()"
   ]
  },
  {
   "cell_type": "code",
   "execution_count": 5,
   "metadata": {},
   "outputs": [],
   "source": [
    "cluster_input = PandasDataset('cluster_inputs', X_train)"
   ]
  },
  {
   "cell_type": "code",
   "execution_count": 6,
   "metadata": {},
   "outputs": [
    {
     "name": "stderr",
     "output_type": "stream",
     "text": [
      "2022-02-25 at 10:52:41 | INFO | catalog | Adding dataset: cluster_inputs\n"
     ]
    }
   ],
   "source": [
    "wrangler.add_dataset(cluster_input)"
   ]
  },
  {
   "cell_type": "code",
   "execution_count": 7,
   "metadata": {},
   "outputs": [
    {
     "name": "stderr",
     "output_type": "stream",
     "text": [
      "2022-02-25 at 10:52:41 | INFO | pipeline | Node skewed evaluation added to Pipeline \n"
     ]
    }
   ],
   "source": [
    "def skewed_transformation(x):\n",
    "    return np.sqrt(x**2)\n",
    "\n",
    "# def skewed_transformation(x):\n",
    "#     return np.log(x+1)\n",
    "\n",
    "wrangler.add_node(\n",
    "    name = 'skewed evaluation',\n",
    "    transformer = n_tr.SkewedDataEvaluator(\n",
    "        threshold = 0.5,\n",
    "        function = skewed_transformation\n",
    "    ),\n",
    "    inputs=['cluster_inputs'],\n",
    "    outputs=['cluster_transformed'],\n",
    ")\n"
   ]
  },
  {
   "cell_type": "code",
   "execution_count": 8,
   "metadata": {},
   "outputs": [
    {
     "name": "stderr",
     "output_type": "stream",
     "text": [
      "2022-02-25 at 10:52:41 | INFO | pipeline | Node ordinal encoder added to Pipeline \n"
     ]
    }
   ],
   "source": [
    "wrangler.add_node(\n",
    "    name = 'ordinal encoder',\n",
    "    transformer = text_tr.OrdinalEncoderTransformer(columns=['Var10']),\n",
    "    inputs = ['cluster_transformed'],\n",
    "    outputs = ['cluster_transformed']\n",
    ")\n"
   ]
  },
  {
   "cell_type": "code",
   "execution_count": 9,
   "metadata": {},
   "outputs": [
    {
     "name": "stderr",
     "output_type": "stream",
     "text": [
      "2022-02-25 at 10:52:42 | INFO | pipeline | Node one hot encoder added to Pipeline \n"
     ]
    }
   ],
   "source": [
    "wrangler.add_node(\n",
    "    name = 'one hot encoder',\n",
    "    transformer = text_tr.OneHotEncoderTransformer(column='Var11'),\n",
    "    inputs = ['cluster_transformed'],\n",
    "    outputs = ['cluster_transformed']\n",
    ")\n",
    "\n"
   ]
  },
  {
   "cell_type": "code",
   "execution_count": 15,
   "metadata": {},
   "outputs": [
    {
     "name": "stderr",
     "output_type": "stream",
     "text": [
      "2022-02-25 at 10:53:35 | WARNING | pipeline | Replacing Existing Node: pca reduction\n",
      "2022-02-25 at 10:53:35 | INFO | pipeline | Node pca reduction added to Pipeline \n"
     ]
    }
   ],
   "source": [
    "wrangler.add_node(\n",
    "    name='pca reduction',\n",
    "    transformer = n_tr.DimensionReducerTransformer(\n",
    "        n_components=0.95, \n",
    "        mode = 'pca'\n",
    "    ),\n",
    "    inputs = ['cluster_transformed'],\n",
    "    outputs = ['cluster_reduced'],\n",
    ")"
   ]
  },
  {
   "cell_type": "code",
   "execution_count": 16,
   "metadata": {},
   "outputs": [
    {
     "name": "stderr",
     "output_type": "stream",
     "text": [
      "2022-02-25 at 10:53:35 | INFO | node | Running Node: skewed evaluation\n",
      "2022-02-25 at 10:53:35 | INFO | base | Loading PandasDataset(name='cluster_inputs', data=DataFrame)\n",
      "2022-02-25 at 10:53:35 | DEBUG | base | Fitting SkewedDataEvaluator(threshold=0.5, function=<function skewed_transformation at 0x00000271C843A940>, skewed_cols=['Var4', 'Var5', 'Var9', 'Var4', 'Var5', 'Var9'])\n",
      "2022-02-25 at 10:53:35 | DEBUG | base | Transforming SkewedDataEvaluator(threshold=0.5, function=<function skewed_transformation at 0x00000271C843A940>, skewed_cols=['Var4', 'Var5', 'Var9', 'Var4', 'Var5', 'Var9', 'Var4', 'Var5', 'Var9'])\n",
      "2022-02-25 at 10:53:35 | INFO | base | Saving PandasDataset(name='cluster_transformed', data=DataFrame)\n",
      "2022-02-25 at 10:53:35 | INFO | node | Running Node: ordinal encoder\n",
      "2022-02-25 at 10:53:35 | INFO | base | Loading PandasDataset(name='cluster_transformed', data=DataFrame)\n",
      "2022-02-25 at 10:53:35 | DEBUG | base | Fitting OrdinalEncoderTransformer(columns=['Var10'], encoder=OrdinalEncoder)\n",
      "2022-02-25 at 10:53:35 | DEBUG | base | Transforming OrdinalEncoderTransformer(columns=['Var10'], encoder=OrdinalEncoder)\n",
      "2022-02-25 at 10:53:35 | INFO | base | Saving PandasDataset(name='cluster_transformed', data=DataFrame)\n",
      "2022-02-25 at 10:53:35 | INFO | node | Running Node: one hot encoder\n",
      "2022-02-25 at 10:53:35 | INFO | base | Loading PandasDataset(name='cluster_transformed', data=DataFrame)\n",
      "2022-02-25 at 10:53:35 | DEBUG | base | Fitting OneHotEncoderTransformer(column='Var11', encoder=OneHotEncoder, one_hot_columns=ndarray)\n",
      "2022-02-25 at 10:53:35 | DEBUG | base | Transforming OneHotEncoderTransformer(column='Var11', encoder=OneHotEncoder, one_hot_columns=ndarray)\n",
      "2022-02-25 at 10:53:35 | INFO | base | Saving PandasDataset(name='cluster_transformed', data=DataFrame)\n",
      "2022-02-25 at 10:53:35 | INFO | node | Running Node: pca reduction\n",
      "2022-02-25 at 10:53:35 | INFO | base | Loading PandasDataset(name='cluster_transformed', data=DataFrame)\n",
      "2022-02-25 at 10:53:35 | DEBUG | base | Fitting DimensionReducerTransformer(n_components=0.95, mode='pca')\n",
      "2022-02-25 at 10:53:35 | DEBUG | base | Transforming DimensionReducerTransformer(n_components=0.95, mode='pca', reducer=PCA)\n",
      "2022-02-25 at 10:53:35 | INFO | base | Saving PandasDataset(name='cluster_reduced', data=DataFrame)\n"
     ]
    }
   ],
   "source": [
    "wrangler.fit_transform()"
   ]
  },
  {
   "cell_type": "code",
   "execution_count": 18,
   "metadata": {},
   "outputs": [],
   "source": [
    "# wrangler.data_catalog.load('cluster_reduced')"
   ]
  },
  {
   "cell_type": "code",
   "execution_count": 51,
   "metadata": {},
   "outputs": [],
   "source": [
    "from sklearn.cluster import KMeans\n",
    "\n",
    "# function returns WSS score for k values from 1 to kmax\n",
    "def calculate_WSS(points, kmax):\n",
    "  sse = []\n",
    "  for k in range(2, kmax+1):\n",
    "    kmeans = KMeans(n_clusters = k).fit(points)\n",
    "    centroids = kmeans.cluster_centers_\n",
    "    pred_clusters = kmeans.predict(points)\n",
    "    curr_sse = 0\n",
    "    \n",
    "    # calculate square of Euclidean distance of each point from its cluster center and add to current WSS\n",
    "    for i in range(len(points)):\n",
    "      curr_center = centroids[pred_clusters[i]]\n",
    "      curr_sse += (points[i, 0] - curr_center[0]) ** 2 + (points[i, 1] - curr_center[1]) ** 2\n",
    "      \n",
    "    sse.append(curr_sse)\n",
    "  return sse\n",
    "\n",
    "\n",
    "# max_k = 10\n",
    "# wss = calculate_WSS(X_train.iloc[:,:4].values, max_k)\n",
    "# elbow_results = pd.DataFrame(wss, index=[i for i in range(2, max_k+1)], columns=['wss'])\n",
    "\n",
    "# elbow_results['wss'].diff(periods=1)\n",
    "# plt.plot(elbow_results)"
   ]
  },
  {
   "cell_type": "code",
   "execution_count": 52,
   "metadata": {},
   "outputs": [],
   "source": [
    "# imports\n",
    "import pandas as pd\n",
    "import numpy as np\n",
    "from sklearn.cluster import KMeans\n",
    "from joblib import Parallel, delayed\n",
    "\n",
    "def kMeansRes(data, k, alpha_k=0.02):\n",
    "    inertia_o = np.square((data - data.mean(axis=0))).sum()\n",
    "    kmeans = KMeans(n_clusters=k, random_state=0).fit(data)\n",
    "    scaled_inertia = kmeans.inertia_ / inertia_o + alpha_k * k\n",
    "    return scaled_inertia\n",
    "\n",
    "def chooseBestKforKMeansParallel(data, max_k):\n",
    "    ans = Parallel(n_jobs=-1,verbose=10)(delayed(kMeansRes)(data, k) for k in range(2,max_k+1))\n",
    "    ans = list(zip(range(2,max_k+1),ans))\n",
    "    results = pd.DataFrame(ans, columns = ['k','Scaled Inertia']).set_index('k')\n",
    "    best_k = results.idxmin()[0]\n",
    "    return best_k, results\n",
    "\n",
    "def chooseBestKforKMeans(data, max_k):\n",
    "    ans = []\n",
    "    for k in range(2, max_k+1):\n",
    "        scaled_inertia = kMeansRes(data, k)\n",
    "        ans.append((k, scaled_inertia))\n",
    "    results = pd.DataFrame(ans, columns = ['k','Scaled Inertia']).set_index('k')\n",
    "    best_k = results.idxmin()[0]\n",
    "    return best_k, results\n"
   ]
  },
  {
   "cell_type": "code",
   "execution_count": 53,
   "metadata": {},
   "outputs": [],
   "source": [
    "\n",
    "# best_k, results = chooseBestKforKMeansParallel(X_train.iloc[:,:4].values, max_k)\n",
    "# best_k, results = chooseBestKforKMeans(X_train.iloc[:,:4].values, max_k)\n",
    "# plt.plot(results)\n",
    "# print(best_k)"
   ]
  },
  {
   "cell_type": "code",
   "execution_count": 19,
   "metadata": {},
   "outputs": [
    {
     "name": "stderr",
     "output_type": "stream",
     "text": [
      "2022-02-25 at 10:53:46 | INFO | pipeline | Node kmeans cluster added to Pipeline \n"
     ]
    }
   ],
   "source": [
    "wrangler.add_node(\n",
    "    name='kmeans cluster',\n",
    "    transformer = ml_tr.KMeansModelTransformer(\n",
    "        n_clusters=3\n",
    "    ),\n",
    "    inputs = ['cluster_reduced'],\n",
    "    outputs = ['cluster_outputs'],\n",
    ")"
   ]
  },
  {
   "cell_type": "code",
   "execution_count": 20,
   "metadata": {},
   "outputs": [
    {
     "name": "stderr",
     "output_type": "stream",
     "text": [
      "2022-02-25 at 10:53:46 | INFO | node | Running Node: skewed evaluation\n",
      "2022-02-25 at 10:53:46 | INFO | base | Loading PandasDataset(name='cluster_inputs', data=DataFrame)\n",
      "2022-02-25 at 10:53:46 | DEBUG | base | Fitting SkewedDataEvaluator(threshold=0.5, function=<function skewed_transformation at 0x00000271C843A940>, skewed_cols=['Var4', 'Var5', 'Var9', 'Var4', 'Var5', 'Var9', 'Var4', 'Var5', 'Var9'])\n",
      "2022-02-25 at 10:53:47 | DEBUG | base | Transforming SkewedDataEvaluator(threshold=0.5, function=<function skewed_transformation at 0x00000271C843A940>, skewed_cols=['Var4', 'Var5', 'Var9', 'Var4', 'Var5', 'Var9', 'Var4', 'Var5', 'Var9', 'Var4', 'Var5', 'Var9'])\n",
      "2022-02-25 at 10:53:47 | INFO | base | Saving PandasDataset(name='cluster_transformed', data=DataFrame)\n",
      "2022-02-25 at 10:53:47 | INFO | node | Running Node: ordinal encoder\n",
      "2022-02-25 at 10:53:47 | INFO | base | Loading PandasDataset(name='cluster_transformed', data=DataFrame)\n",
      "2022-02-25 at 10:53:47 | DEBUG | base | Fitting OrdinalEncoderTransformer(columns=['Var10'], encoder=OrdinalEncoder)\n",
      "2022-02-25 at 10:53:47 | DEBUG | base | Transforming OrdinalEncoderTransformer(columns=['Var10'], encoder=OrdinalEncoder)\n",
      "2022-02-25 at 10:53:47 | INFO | base | Saving PandasDataset(name='cluster_transformed', data=DataFrame)\n",
      "2022-02-25 at 10:53:47 | INFO | node | Running Node: one hot encoder\n",
      "2022-02-25 at 10:53:47 | INFO | base | Loading PandasDataset(name='cluster_transformed', data=DataFrame)\n",
      "2022-02-25 at 10:53:47 | DEBUG | base | Fitting OneHotEncoderTransformer(column='Var11', encoder=OneHotEncoder, one_hot_columns=ndarray)\n",
      "2022-02-25 at 10:53:47 | DEBUG | base | Transforming OneHotEncoderTransformer(column='Var11', encoder=OneHotEncoder, one_hot_columns=ndarray)\n",
      "2022-02-25 at 10:53:47 | INFO | base | Saving PandasDataset(name='cluster_transformed', data=DataFrame)\n",
      "2022-02-25 at 10:53:47 | INFO | node | Running Node: pca reduction\n",
      "2022-02-25 at 10:53:47 | INFO | base | Loading PandasDataset(name='cluster_transformed', data=DataFrame)\n",
      "2022-02-25 at 10:53:47 | DEBUG | base | Fitting DimensionReducerTransformer(n_components=0.95, mode='pca', reducer=PCA)\n",
      "2022-02-25 at 10:53:47 | DEBUG | base | Transforming DimensionReducerTransformer(n_components=0.95, mode='pca', reducer=PCA)\n",
      "2022-02-25 at 10:53:47 | INFO | base | Saving PandasDataset(name='cluster_reduced', data=DataFrame)\n",
      "2022-02-25 at 10:53:47 | INFO | node | Running Node: kmeans cluster\n",
      "2022-02-25 at 10:53:47 | INFO | base | Loading PandasDataset(name='cluster_reduced', data=DataFrame)\n",
      "2022-02-25 at 10:53:47 | DEBUG | base | Fitting KMeansModelTransformer(model=KMeans)\n",
      "2022-02-25 at 10:53:47 | DEBUG | base | Transforming KMeansModelTransformer(model=KMeans, labels=ndarray)\n",
      "2022-02-25 at 10:53:47 | INFO | catalog | Adding dataset: cluster_outputs\n"
     ]
    }
   ],
   "source": [
    "wrangler.fit_transform()"
   ]
  },
  {
   "cell_type": "code",
   "execution_count": 25,
   "metadata": {},
   "outputs": [],
   "source": [
    "# cluster_transformed\n",
    "# wrangler.data_catalog.load('cluster_reduced').join(\n",
    "# wrangler.data_catalog.load('cluster_outputs')    \n",
    "# )"
   ]
  },
  {
   "cell_type": "code",
   "execution_count": 26,
   "metadata": {},
   "outputs": [],
   "source": [
    "# cluster_input = PandasDataset('cluster_inputs', X_train)\n",
    "# wrangler.add_dataset(cluster_input)"
   ]
  },
  {
   "cell_type": "code",
   "execution_count": 28,
   "metadata": {},
   "outputs": [
    {
     "name": "stderr",
     "output_type": "stream",
     "text": [
      "2022-02-25 at 10:56:29 | INFO | base | Loading PandasDataset(name='cluster_reduced', data=DataFrame)\n",
      "2022-02-25 at 10:56:29 | INFO | base | Loading PandasDataset(name='cluster_outputs', data=DataFrame)\n"
     ]
    },
    {
     "data": {
      "image/png": "[encoded data removed]",
      "text/plain": [
       "<Figure size 360x360 with 1 Axes>"
      ]
     },
     "metadata": {
      "needs_background": "light"
     },
     "output_type": "display_data"
    }
   ],
   "source": [
    "data = wrangler.data_catalog.load('cluster_reduced')\n",
    "labels = wrangler.data_catalog.load('cluster_outputs')\n",
    "\n",
    "data_labels = pd.concat([data,labels],axis=1)\n",
    "\n",
    "import seaborn as sns\n",
    "import matplotlib.pyplot as plt\n",
    "\n",
    "plt.figure(figsize=(5,5))\n",
    "sns.scatterplot(x = data_labels.iloc[:,0],y = data_labels.iloc[:,1], hue=data_labels.iloc[:,-1])\n",
    "plt.show()"
   ]
  },
  {
   "cell_type": "code",
   "execution_count": 31,
   "metadata": {},
   "outputs": [
    {
     "name": "stderr",
     "output_type": "stream",
     "text": [
      "2022-02-25 at 10:58:24 | INFO | base | Loading PandasDataset(name='cluster_inputs', data=DataFrame)\n",
      "2022-02-25 at 10:58:24 | INFO | base | Loading PandasDataset(name='cluster_outputs', data=DataFrame)\n"
     ]
    }
   ],
   "source": [
    "data_features = wrangler.data_catalog.load('cluster_inputs')\n",
    "data_labels = wrangler.data_catalog.load('cluster_outputs')\n",
    "\n",
    "data = pd.concat([data_features, data_labels], axis=1)"
   ]
  },
  {
   "cell_type": "code",
   "execution_count": 32,
   "metadata": {},
   "outputs": [
    {
     "data": {
      "text/html": [
       "<div>\n",
       "<style scoped>\n",
       "    .dataframe tbody tr th:only-of-type {\n",
       "        vertical-align: middle;\n",
       "    }\n",
       "\n",
       "    .dataframe tbody tr th {\n",
       "        vertical-align: top;\n",
       "    }\n",
       "\n",
       "    .dataframe thead th {\n",
       "        text-align: right;\n",
       "    }\n",
       "</style>\n",
       "<table border=\"1\" class=\"dataframe\">\n",
       "  <thead>\n",
       "    <tr style=\"text-align: right;\">\n",
       "      <th></th>\n",
       "      <th>Var0</th>\n",
       "      <th>Var1</th>\n",
       "      <th>Var2</th>\n",
       "      <th>Var3</th>\n",
       "      <th>Var4</th>\n",
       "      <th>Var5</th>\n",
       "      <th>Var6</th>\n",
       "      <th>Var7</th>\n",
       "      <th>Var8</th>\n",
       "      <th>Var9</th>\n",
       "      <th>Var10</th>\n",
       "      <th>Var11</th>\n",
       "      <th>cluster</th>\n",
       "    </tr>\n",
       "  </thead>\n",
       "  <tbody>\n",
       "    <tr>\n",
       "      <th>181</th>\n",
       "      <td>8.359499</td>\n",
       "      <td>6.266941</td>\n",
       "      <td>-1.052609</td>\n",
       "      <td>4.452380</td>\n",
       "      <td>-9.253871</td>\n",
       "      <td>2.287380</td>\n",
       "      <td>-5.392305</td>\n",
       "      <td>8.599893</td>\n",
       "      <td>1.354188</td>\n",
       "      <td>-1.763804</td>\n",
       "      <td>Cat1</td>\n",
       "      <td>Cat2</td>\n",
       "      <td>0</td>\n",
       "    </tr>\n",
       "    <tr>\n",
       "      <th>137</th>\n",
       "      <td>0.667156</td>\n",
       "      <td>4.070321</td>\n",
       "      <td>3.787989</td>\n",
       "      <td>1.582165</td>\n",
       "      <td>-1.156079</td>\n",
       "      <td>3.059944</td>\n",
       "      <td>0.271739</td>\n",
       "      <td>9.555049</td>\n",
       "      <td>10.202760</td>\n",
       "      <td>-1.748945</td>\n",
       "      <td>Cat1</td>\n",
       "      <td>Cat5</td>\n",
       "      <td>1</td>\n",
       "    </tr>\n",
       "    <tr>\n",
       "      <th>117</th>\n",
       "      <td>7.980919</td>\n",
       "      <td>5.986394</td>\n",
       "      <td>-1.827886</td>\n",
       "      <td>5.054598</td>\n",
       "      <td>-7.607773</td>\n",
       "      <td>2.981871</td>\n",
       "      <td>-7.603677</td>\n",
       "      <td>9.166175</td>\n",
       "      <td>1.254944</td>\n",
       "      <td>-1.985675</td>\n",
       "      <td>Cat2</td>\n",
       "      <td>Cat6</td>\n",
       "      <td>0</td>\n",
       "    </tr>\n",
       "    <tr>\n",
       "      <th>56</th>\n",
       "      <td>6.041191</td>\n",
       "      <td>1.108941</td>\n",
       "      <td>1.600037</td>\n",
       "      <td>9.909829</td>\n",
       "      <td>-8.524107</td>\n",
       "      <td>-7.958437</td>\n",
       "      <td>-7.947128</td>\n",
       "      <td>5.102383</td>\n",
       "      <td>5.107310</td>\n",
       "      <td>8.826402</td>\n",
       "      <td>Cat2</td>\n",
       "      <td>Cat7</td>\n",
       "      <td>2</td>\n",
       "    </tr>\n",
       "    <tr>\n",
       "      <th>19</th>\n",
       "      <td>5.627556</td>\n",
       "      <td>-0.100197</td>\n",
       "      <td>2.114883</td>\n",
       "      <td>9.577248</td>\n",
       "      <td>-7.593961</td>\n",
       "      <td>-7.490494</td>\n",
       "      <td>-9.193007</td>\n",
       "      <td>4.876509</td>\n",
       "      <td>7.232386</td>\n",
       "      <td>7.702232</td>\n",
       "      <td>Cat2</td>\n",
       "      <td>Cat3</td>\n",
       "      <td>2</td>\n",
       "    </tr>\n",
       "    <tr>\n",
       "      <th>...</th>\n",
       "      <td>...</td>\n",
       "      <td>...</td>\n",
       "      <td>...</td>\n",
       "      <td>...</td>\n",
       "      <td>...</td>\n",
       "      <td>...</td>\n",
       "      <td>...</td>\n",
       "      <td>...</td>\n",
       "      <td>...</td>\n",
       "      <td>...</td>\n",
       "      <td>...</td>\n",
       "      <td>...</td>\n",
       "      <td>...</td>\n",
       "    </tr>\n",
       "    <tr>\n",
       "      <th>189</th>\n",
       "      <td>6.764909</td>\n",
       "      <td>0.402582</td>\n",
       "      <td>-0.061029</td>\n",
       "      <td>10.509889</td>\n",
       "      <td>-9.435828</td>\n",
       "      <td>-9.799001</td>\n",
       "      <td>-7.001207</td>\n",
       "      <td>6.248365</td>\n",
       "      <td>4.101402</td>\n",
       "      <td>6.716803</td>\n",
       "      <td>Cat2</td>\n",
       "      <td>Cat9</td>\n",
       "      <td>2</td>\n",
       "    </tr>\n",
       "    <tr>\n",
       "      <th>1</th>\n",
       "      <td>7.393435</td>\n",
       "      <td>5.353521</td>\n",
       "      <td>-1.423697</td>\n",
       "      <td>5.689098</td>\n",
       "      <td>-7.216711</td>\n",
       "      <td>1.558204</td>\n",
       "      <td>-6.232880</td>\n",
       "      <td>10.695621</td>\n",
       "      <td>0.228681</td>\n",
       "      <td>-0.132390</td>\n",
       "      <td>Cat1</td>\n",
       "      <td>Cat4</td>\n",
       "      <td>0</td>\n",
       "    </tr>\n",
       "    <tr>\n",
       "      <th>35</th>\n",
       "      <td>0.936987</td>\n",
       "      <td>3.135694</td>\n",
       "      <td>2.578544</td>\n",
       "      <td>0.726117</td>\n",
       "      <td>-0.755113</td>\n",
       "      <td>3.741386</td>\n",
       "      <td>0.914980</td>\n",
       "      <td>9.171988</td>\n",
       "      <td>8.904073</td>\n",
       "      <td>-2.570549</td>\n",
       "      <td>Cat2</td>\n",
       "      <td>Cat7</td>\n",
       "      <td>1</td>\n",
       "    </tr>\n",
       "    <tr>\n",
       "      <th>152</th>\n",
       "      <td>5.045832</td>\n",
       "      <td>1.672537</td>\n",
       "      <td>1.595713</td>\n",
       "      <td>10.644086</td>\n",
       "      <td>-7.642833</td>\n",
       "      <td>-8.292509</td>\n",
       "      <td>-8.330554</td>\n",
       "      <td>6.863894</td>\n",
       "      <td>4.858214</td>\n",
       "      <td>8.080218</td>\n",
       "      <td>Cat2</td>\n",
       "      <td>Cat1</td>\n",
       "      <td>2</td>\n",
       "    </tr>\n",
       "    <tr>\n",
       "      <th>10</th>\n",
       "      <td>9.589882</td>\n",
       "      <td>6.306797</td>\n",
       "      <td>-1.104204</td>\n",
       "      <td>5.590454</td>\n",
       "      <td>-6.859488</td>\n",
       "      <td>3.231258</td>\n",
       "      <td>-7.941652</td>\n",
       "      <td>7.789254</td>\n",
       "      <td>-0.352136</td>\n",
       "      <td>-1.705513</td>\n",
       "      <td>Cat1</td>\n",
       "      <td>Cat4</td>\n",
       "      <td>0</td>\n",
       "    </tr>\n",
       "  </tbody>\n",
       "</table>\n",
       "<p>180 rows × 13 columns</p>\n",
       "</div>"
      ],
      "text/plain": [
       "         Var0      Var1      Var2       Var3      Var4      Var5      Var6  \\\n",
       "181  8.359499  6.266941 -1.052609   4.452380 -9.253871  2.287380 -5.392305   \n",
       "137  0.667156  4.070321  3.787989   1.582165 -1.156079  3.059944  0.271739   \n",
       "117  7.980919  5.986394 -1.827886   5.054598 -7.607773  2.981871 -7.603677   \n",
       "56   6.041191  1.108941  1.600037   9.909829 -8.524107 -7.958437 -7.947128   \n",
       "19   5.627556 -0.100197  2.114883   9.577248 -7.593961 -7.490494 -9.193007   \n",
       "..        ...       ...       ...        ...       ...       ...       ...   \n",
       "189  6.764909  0.402582 -0.061029  10.509889 -9.435828 -9.799001 -7.001207   \n",
       "1    7.393435  5.353521 -1.423697   5.689098 -7.216711  1.558204 -6.232880   \n",
       "35   0.936987  3.135694  2.578544   0.726117 -0.755113  3.741386  0.914980   \n",
       "152  5.045832  1.672537  1.595713  10.644086 -7.642833 -8.292509 -8.330554   \n",
       "10   9.589882  6.306797 -1.104204   5.590454 -6.859488  3.231258 -7.941652   \n",
       "\n",
       "          Var7       Var8      Var9 Var10 Var11  cluster  \n",
       "181   8.599893   1.354188 -1.763804  Cat1  Cat2        0  \n",
       "137   9.555049  10.202760 -1.748945  Cat1  Cat5        1  \n",
       "117   9.166175   1.254944 -1.985675  Cat2  Cat6        0  \n",
       "56    5.102383   5.107310  8.826402  Cat2  Cat7        2  \n",
       "19    4.876509   7.232386  7.702232  Cat2  Cat3        2  \n",
       "..         ...        ...       ...   ...   ...      ...  \n",
       "189   6.248365   4.101402  6.716803  Cat2  Cat9        2  \n",
       "1    10.695621   0.228681 -0.132390  Cat1  Cat4        0  \n",
       "35    9.171988   8.904073 -2.570549  Cat2  Cat7        1  \n",
       "152   6.863894   4.858214  8.080218  Cat2  Cat1        2  \n",
       "10    7.789254  -0.352136 -1.705513  Cat1  Cat4        0  \n",
       "\n",
       "[180 rows x 13 columns]"
      ]
     },
     "execution_count": 32,
     "metadata": {},
     "output_type": "execute_result"
    }
   ],
   "source": [
    "# data.reset_index()\n",
    "data"
   ]
  },
  {
   "cell_type": "code",
   "execution_count": 33,
   "metadata": {},
   "outputs": [],
   "source": [
    "def compute_afinidades(data, columna_index='index', columna_cluster='cluster', columnas_ignorar = []):\n",
    "    df_aux = data[data.columns.difference(columnas_ignorar)]\n",
    "\n",
    "    categorical = df_aux.select_dtypes(include= ['int8', 'bool']).columns.tolist()\n",
    "\n",
    "    numerical = df_aux.select_dtypes(include= ['number'], exclude= ['int8']).columns.tolist()\n",
    "\n",
    "    if len(columnas_ignorar) != 0:\n",
    "        for remove_col in columnas_ignorar:\n",
    "            try: numerical.remove(remove_col)\n",
    "            except: continue\n",
    "\n",
    "    #Get stats by cluster\n",
    "    aux = df_aux[numerical].groupby(columna_cluster).describe().T\n",
    "    aux_ = aux.stack().reset_index(drop = False)\n",
    "    aux_.rename(columns = {'level_0': 'variables', 'level_1': 'estadisticos', columna_cluster: 'cluster', 0: 'valor'}, inplace = True)\n",
    "\n",
    "    #Get general stats\n",
    "    numerical.remove(columna_cluster)\n",
    "    aux2 = df_aux[numerical].describe().T\n",
    "    aux_2 = aux2.stack().reset_index(drop = False)\n",
    "    aux_2['cluster'] = 'Total'\n",
    "    aux_2.rename(columns = {'level_0': 'variables', 'level_1': 'estadisticos', 0: 'valor'}, inplace = True)\n",
    "    estadisticos = pd.concat([aux_, aux_2])\n",
    "\n",
    "    #Get cluster means\n",
    "    afin_ = df_aux[df_aux.columns.difference([columna_index])].groupby(columna_cluster).mean()\n",
    "\n",
    "    #Get general means\n",
    "    aux_afin = df_aux[df_aux.columns.difference([columna_cluster] + [columna_index])].mean()\n",
    "    for col in afin_.columns:\n",
    "        afin_[col] = afin_[col] / aux_afin[col]\n",
    "\n",
    "    afin_ = afin_.stack().reset_index()\n",
    "    \n",
    "    afin_.rename(columns = {\n",
    "        'level_1': 'variables', \n",
    "        columna_cluster: 'afinidad_cluster', \n",
    "        0: 'valor'\n",
    "        }, \n",
    "        inplace = True\n",
    "    )\n",
    "\n",
    "    return estadisticos, afin_.sort_values(by=['afinidad_cluster','valor'],ascending=False)\n",
    "\n",
    "estadisticos, afinidades = compute_afinidades(data)"
   ]
  },
  {
   "cell_type": "code",
   "execution_count": 37,
   "metadata": {},
   "outputs": [],
   "source": [
    "# estadisticos\n",
    "# afinidades"
   ]
  },
  {
   "cell_type": "code",
   "execution_count": 36,
   "metadata": {},
   "outputs": [
    {
     "data": {
      "text/plain": [
       "<AxesSubplot:xlabel='afinidad_cluster', ylabel='variables'>"
      ]
     },
     "execution_count": 36,
     "metadata": {},
     "output_type": "execute_result"
    },
    {
     "data": {
      "image/png": "[encoded data removed]",
      "text/plain": [
       "<Figure size 432x288 with 2 Axes>"
      ]
     },
     "metadata": {
      "needs_background": "light"
     },
     "output_type": "display_data"
    }
   ],
   "source": [
    "sns.heatmap(afinidades.pivot(\n",
    "    index = 'variables',\n",
    "    columns='afinidad_cluster',\n",
    "    values='valor'))"
   ]
  }
 ],
 "metadata": {
  "interpreter": {
   "hash": "477c64429a66b88dbea596d2fd7dadb0d3a75c4333ee684689ddf8e8bb5bf8be"
  },
  "kernelspec": {
   "display_name": "Python 3.8.5 64-bit ('base': conda)",
   "name": "python3"
  },
  "language_info": {
   "codemirror_mode": {
    "name": "ipython",
    "version": 3
   },
   "file_extension": ".py",
   "mimetype": "text/x-python",
   "name": "python",
   "nbconvert_exporter": "python",
   "pygments_lexer": "ipython3",
   "version": "3.8.5"
  },
  "orig_nbformat": 4
 },
 "nbformat": 4,
 "nbformat_minor": 2
}
