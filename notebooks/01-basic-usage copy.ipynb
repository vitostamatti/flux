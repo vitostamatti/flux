{
 "cells": [
  {
   "cell_type": "markdown",
   "metadata": {},
   "source": [
    "# Basic Usage of Flux\n",
    "\n"
   ]
  },
  {
   "cell_type": "markdown",
   "metadata": {},
   "source": [
    "## Introduction"
   ]
  },
  {
   "cell_type": "code",
   "execution_count": 10,
   "metadata": {},
   "outputs": [],
   "source": [
    "from flux import Flux\n",
    "from flux import MemoryDataset"
   ]
  },
  {
   "cell_type": "code",
   "execution_count": 27,
   "metadata": {},
   "outputs": [],
   "source": [
    "flux = Flux()"
   ]
  },
  {
   "cell_type": "markdown",
   "metadata": {},
   "source": [
    "### Adding Datasets\n",
    "\n",
    "The most fundamental dataset is the MemoryDataset. This object is just a\n",
    "wrapper of python objects. You can save any object inside and it will be \n",
    "save in memory.\n",
    "\n",
    "To view all datasets in current the current Flux, you can access the catalog\n",
    "property."
   ]
  },
  {
   "cell_type": "code",
   "execution_count": 28,
   "metadata": {},
   "outputs": [
    {
     "name": "stderr",
     "output_type": "stream",
     "text": [
      "2022-09-06 17:00:19,219 - flux.data.catalog - INFO - Adding dataset: input\n"
     ]
    }
   ],
   "source": [
    "from flux import MemoryDataset\n",
    "\n",
    "input_ds = MemoryDataset(data=1, description='input data')\n",
    "\n",
    "flux.add_dataset(name='input',dataset=input_ds)"
   ]
  },
  {
   "cell_type": "code",
   "execution_count": 29,
   "metadata": {},
   "outputs": [
    {
     "data": {
      "text/plain": [
       "{'input': MemoryDataset(description='input data', _data='1')}"
      ]
     },
     "execution_count": 29,
     "metadata": {},
     "output_type": "execute_result"
    }
   ],
   "source": [
    "flux.catalog"
   ]
  },
  {
   "cell_type": "markdown",
   "metadata": {},
   "source": [
    "### Adding Nodes\n",
    "\n",
    "Adding nodes is as simple as passing a python function, its inputs and its expected outputs.\n",
    "\n",
    "The inputs are required to be available in the flux catalog in order for the node to excecute succesfully.\n",
    "\n",
    "On the other hand, outputs are created dinamically as MemoryDatasets if they are not in the catalog.\n",
    "\n",
    "\n",
    "To view all nodes inside the curren flux object you can access the pipeline property."
   ]
  },
  {
   "cell_type": "code",
   "execution_count": 30,
   "metadata": {},
   "outputs": [
    {
     "name": "stderr",
     "output_type": "stream",
     "text": [
      "2022-09-06 17:00:20,148 - flux.pipeline.pipeline - INFO - Node add_number added to Pipeline \n",
      "2022-09-06 17:00:20,151 - flux.pipeline.pipeline - INFO - Node multiply_number added to Pipeline \n"
     ]
    }
   ],
   "source": [
    "\n",
    "def add_number(input, number=0):\n",
    "    return input+number\n",
    "\n",
    "flux.add_node(\n",
    "    func=add_number,\n",
    "    inputs='input',\n",
    "    outputs='sum_output',\n",
    "    func_kwargs={\"number\":10}\n",
    ")\n",
    "\n",
    "def multiply_number(input, number=1):\n",
    "    return input*number\n",
    "\n",
    "flux.add_node(\n",
    "    func=multiply_number,\n",
    "    inputs='sum_output',\n",
    "    outputs='output',\n",
    "    func_kwargs={\"number\":2}\n",
    ")"
   ]
  },
  {
   "cell_type": "code",
   "execution_count": 31,
   "metadata": {},
   "outputs": [
    {
     "data": {
      "text/plain": [
       "Pipeline \n",
       " - Node: add_number([input]) -> [sum_output]\n",
       "- Node: multiply_number([sum_output]) -> [output]"
      ]
     },
     "execution_count": 31,
     "metadata": {},
     "output_type": "execute_result"
    }
   ],
   "source": [
    "flux.pipeline"
   ]
  },
  {
   "cell_type": "markdown",
   "metadata": {},
   "source": [
    "### Running Flux"
   ]
  },
  {
   "cell_type": "code",
   "execution_count": 32,
   "metadata": {},
   "outputs": [
    {
     "name": "stderr",
     "output_type": "stream",
     "text": [
      "2022-09-06 17:00:21,856 - flux.data.datasets - INFO - Loading MemoryDataset(description='input data', _data='1')\n",
      "2022-09-06 17:00:21,857 - flux.pipeline.node - INFO - Running Node add_number\n",
      "2022-09-06 17:00:21,858 - flux.data.catalog - INFO - Saving dataset: sum_output\n",
      "2022-09-06 17:00:21,859 - flux.data.catalog - INFO - Adding dataset: sum_output\n",
      "2022-09-06 17:00:21,861 - flux.data.datasets - INFO - Loading MemoryDataset(_data='11')\n",
      "2022-09-06 17:00:21,863 - flux.pipeline.node - INFO - Running Node multiply_number\n",
      "2022-09-06 17:00:21,865 - flux.data.catalog - INFO - Saving dataset: output\n",
      "2022-09-06 17:00:21,866 - flux.data.catalog - INFO - Adding dataset: output\n",
      "2022-09-06 17:00:21,867 - flux.data.catalog - INFO - Removing dataset: sum_output\n"
     ]
    }
   ],
   "source": [
    "flux.run()"
   ]
  },
  {
   "cell_type": "code",
   "execution_count": 33,
   "metadata": {},
   "outputs": [
    {
     "data": {
      "text/plain": [
       "{'input': MemoryDataset(description='input data', _data='1'),\n",
       " 'output': MemoryDataset(_data='22')}"
      ]
     },
     "execution_count": 33,
     "metadata": {},
     "output_type": "execute_result"
    }
   ],
   "source": [
    "flux.catalog"
   ]
  },
  {
   "cell_type": "markdown",
   "metadata": {},
   "source": [
    "### Accessing Results"
   ]
  },
  {
   "cell_type": "code",
   "execution_count": 34,
   "metadata": {},
   "outputs": [
    {
     "name": "stderr",
     "output_type": "stream",
     "text": [
      "2022-09-06 17:00:33,822 - flux.data.datasets - INFO - Loading MemoryDataset(_data='22')\n"
     ]
    },
    {
     "data": {
      "text/plain": [
       "22"
      ]
     },
     "execution_count": 34,
     "metadata": {},
     "output_type": "execute_result"
    }
   ],
   "source": [
    "flux.load_dataset(name='output')"
   ]
  },
  {
   "cell_type": "markdown",
   "metadata": {},
   "source": [
    "### Saving Flux"
   ]
  },
  {
   "cell_type": "code",
   "execution_count": 20,
   "metadata": {},
   "outputs": [],
   "source": [
    "flux.save('../data/basic_flux')"
   ]
  },
  {
   "cell_type": "markdown",
   "metadata": {},
   "source": [
    "### Loading Flux"
   ]
  },
  {
   "cell_type": "code",
   "execution_count": 6,
   "metadata": {},
   "outputs": [],
   "source": [
    "new_flux = Flux()\n",
    "new_flux.load('../data/basic_flux.pkl')"
   ]
  },
  {
   "cell_type": "code",
   "execution_count": 7,
   "metadata": {},
   "outputs": [
    {
     "data": {
      "text/plain": [
       "{}"
      ]
     },
     "execution_count": 7,
     "metadata": {},
     "output_type": "execute_result"
    }
   ],
   "source": [
    "new_flux.catalog"
   ]
  },
  {
   "cell_type": "code",
   "execution_count": 8,
   "metadata": {},
   "outputs": [
    {
     "data": {
      "text/plain": [
       "Pipeline \n",
       " - Node: add_number([input]) -> [sum_output]\n",
       "- Node: multiply_number([sum_output]) -> [output]"
      ]
     },
     "execution_count": 8,
     "metadata": {},
     "output_type": "execute_result"
    }
   ],
   "source": [
    "new_flux.pipeline"
   ]
  },
  {
   "cell_type": "code",
   "execution_count": 11,
   "metadata": {},
   "outputs": [],
   "source": [
    "# Adding new dataset in order to run flux\n",
    "new_flux.add_dataset(\n",
    "    name='input',\n",
    "    dataset=MemoryDataset(data=2)\n",
    ")"
   ]
  },
  {
   "cell_type": "code",
   "execution_count": 12,
   "metadata": {},
   "outputs": [],
   "source": [
    "new_flux.run()"
   ]
  },
  {
   "cell_type": "markdown",
   "metadata": {},
   "source": [
    "### Overriding Datasets"
   ]
  },
  {
   "cell_type": "code",
   "execution_count": 10,
   "metadata": {},
   "outputs": [
    {
     "name": "stderr",
     "output_type": "stream",
     "text": [
      "2022-09-06 16:38:51,956 - flux.data.catalog - INFO - Adding dataset: input\n",
      "2022-09-06 16:38:51,957 - flux.pipeline.pipeline - INFO - Node add_number added to Pipeline \n",
      "2022-09-06 16:38:51,958 - flux.pipeline.pipeline - INFO - Node multiply_number added to Pipeline \n",
      "2022-09-06 16:38:51,959 - flux.pipeline.pipeline - INFO - Node add_number_2 added to Pipeline \n"
     ]
    }
   ],
   "source": [
    "flux = Flux()\n",
    "\n",
    "input_ds = MemoryDataset(data=1, description='input data')\n",
    "\n",
    "flux.add_dataset(name='input',dataset=input_ds)\n",
    "\n",
    "def add_number(input, number=0):\n",
    "    return input+number\n",
    "\n",
    "flux.add_node(\n",
    "    name='add_number',\n",
    "    func=add_number,\n",
    "    inputs='input',\n",
    "    outputs='interim',\n",
    "    func_kwargs={\"number\":10}\n",
    ")\n",
    "\n",
    "def multiply_number(input, number=1):\n",
    "    return input*number\n",
    "\n",
    "flux.add_node(\n",
    "    name='multiply_number',\n",
    "    func=multiply_number,\n",
    "    inputs='interim',\n",
    "    outputs='interim',\n",
    "    func_kwargs={\"number\":2}\n",
    ")\n",
    "\n",
    "flux.add_node(\n",
    "    name='add_number_2',\n",
    "    func=add_number,\n",
    "    inputs='interim',\n",
    "    outputs='output',\n",
    "    func_kwargs={\"number\":2}\n",
    ")"
   ]
  },
  {
   "cell_type": "code",
   "execution_count": 11,
   "metadata": {},
   "outputs": [
    {
     "name": "stderr",
     "output_type": "stream",
     "text": [
      "2022-09-06 16:38:53,173 - flux.data.datasets - INFO - Loading MemoryDataset(description='input data', _data='1')\n",
      "2022-09-06 16:38:53,174 - flux.pipeline.node - INFO - Running Node add_number\n",
      "2022-09-06 16:38:53,175 - flux.data.catalog - INFO - Saving dataset: interim\n",
      "2022-09-06 16:38:53,176 - flux.data.catalog - INFO - Adding dataset: interim\n",
      "2022-09-06 16:38:53,177 - flux.data.datasets - INFO - Loading MemoryDataset(_data='11')\n",
      "2022-09-06 16:38:53,178 - flux.pipeline.node - INFO - Running Node multiply_number\n",
      "2022-09-06 16:38:53,178 - flux.data.catalog - INFO - Saving dataset: interim\n",
      "2022-09-06 16:38:53,179 - flux.data.datasets - INFO - Saving MemoryDataset(_data='11')\n",
      "2022-09-06 16:38:53,180 - flux.data.datasets - INFO - Loading MemoryDataset(_data='22')\n",
      "2022-09-06 16:38:53,180 - flux.pipeline.node - INFO - Running Node add_number_2\n",
      "2022-09-06 16:38:53,181 - flux.data.catalog - INFO - Saving dataset: output\n",
      "2022-09-06 16:38:53,181 - flux.data.catalog - INFO - Adding dataset: output\n",
      "2022-09-06 16:38:53,182 - flux.data.catalog - INFO - Removing dataset: interim\n"
     ]
    }
   ],
   "source": [
    "flux()"
   ]
  },
  {
   "cell_type": "code",
   "execution_count": null,
   "metadata": {},
   "outputs": [],
   "source": []
  }
 ],
 "metadata": {
  "kernelspec": {
   "display_name": "Python 3.8.5 ('venv': venv)",
   "language": "python",
   "name": "python3"
  },
  "language_info": {
   "codemirror_mode": {
    "name": "ipython",
    "version": 3
   },
   "file_extension": ".py",
   "mimetype": "text/x-python",
   "name": "python",
   "nbconvert_exporter": "python",
   "pygments_lexer": "ipython3",
   "version": "3.8.5"
  },
  "orig_nbformat": 4,
  "vscode": {
   "interpreter": {
    "hash": "79ca0e4158c23dff0a706beef246f7bebfcf8a24b6d5d2a00c6cc13b45b3bff0"
   }
  }
 },
 "nbformat": 4,
 "nbformat_minor": 2
}
