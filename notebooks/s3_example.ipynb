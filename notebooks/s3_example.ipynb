{
 "cells": [
  {
   "cell_type": "markdown",
   "metadata": {},
   "source": [
    "# Ejemplo de S3Dataset"
   ]
  },
  {
   "cell_type": "code",
   "execution_count": 1,
   "metadata": {},
   "outputs": [],
   "source": [
    "import pandas as pd\n",
    "from wrangler.data import S3Dataset\n",
    "from wrangler import logger as wrangler_logger\n",
    "wrangler_logger.enable()\n",
    "\n",
    "import boto3\n",
    "import os\n",
    "\n",
    "# from dotenv import load_dotenv\n",
    "# load_dotenv(\".env\")"
   ]
  },
  {
   "cell_type": "code",
   "execution_count": 6,
   "metadata": {},
   "outputs": [],
   "source": [
    "# os.environ.get('AWS_ACCESS_KEY')"
   ]
  },
  {
   "cell_type": "code",
   "execution_count": 2,
   "metadata": {},
   "outputs": [],
   "source": [
    "bucket = 'grupoconsorcio'\n",
    "filename = 'test_data.csv'\n",
    "ds = S3Dataset('s3_dataset', bucket, filename, access_key='AWS_ACCESS_KEY', secret_key='AWS_SECRET_KEY')"
   ]
  },
  {
   "cell_type": "code",
   "execution_count": 3,
   "metadata": {},
   "outputs": [
    {
     "name": "stderr",
     "output_type": "stream",
     "text": [
      "2022-02-08 at 10:57:40 | DEBUG | base | Saving S3Dataset(name='s3_dataset', bucket='grupoconsorcio', filename='test_data.csv', access_key='AWS_ACCESS_KEY', secret_key='AWS_SECRET_KEY', load_params=dict, save_params=dict)\n",
      "2022-02-08 at 10:57:41 | INFO | datasets | Successful S3 put_object response. Status - 200\n"
     ]
    }
   ],
   "source": [
    "df = pd.DataFrame({\"letras_b\":[\"d\", \"e\", \"f\", \"g\"],\n",
    "                    'tipo_b':['consonante','vocal','consonante','consonante'],\n",
    "                     \"numeros_b\":[3, 4, 5, 6]})\n",
    "ds.save(df)"
   ]
  },
  {
   "cell_type": "code",
   "execution_count": 4,
   "metadata": {},
   "outputs": [
    {
     "name": "stderr",
     "output_type": "stream",
     "text": [
      "2022-02-08 at 10:57:48 | DEBUG | base | Loading S3Dataset(name='s3_dataset', bucket='grupoconsorcio', filename='test_data.csv', access_key='AWS_ACCESS_KEY', secret_key='AWS_SECRET_KEY', load_params=dict, save_params=dict)\n",
      "2022-02-08 at 10:57:49 | INFO | datasets | Successful S3 get_object response. Status - 200\n"
     ]
    },
    {
     "data": {
      "text/html": [
       "<div>\n",
       "<style scoped>\n",
       "    .dataframe tbody tr th:only-of-type {\n",
       "        vertical-align: middle;\n",
       "    }\n",
       "\n",
       "    .dataframe tbody tr th {\n",
       "        vertical-align: top;\n",
       "    }\n",
       "\n",
       "    .dataframe thead th {\n",
       "        text-align: right;\n",
       "    }\n",
       "</style>\n",
       "<table border=\"1\" class=\"dataframe\">\n",
       "  <thead>\n",
       "    <tr style=\"text-align: right;\">\n",
       "      <th></th>\n",
       "      <th>Unnamed: 0</th>\n",
       "      <th>letras_b</th>\n",
       "      <th>tipo_b</th>\n",
       "      <th>numeros_b</th>\n",
       "    </tr>\n",
       "  </thead>\n",
       "  <tbody>\n",
       "    <tr>\n",
       "      <th>0</th>\n",
       "      <td>0</td>\n",
       "      <td>d</td>\n",
       "      <td>consonante</td>\n",
       "      <td>3</td>\n",
       "    </tr>\n",
       "    <tr>\n",
       "      <th>1</th>\n",
       "      <td>1</td>\n",
       "      <td>e</td>\n",
       "      <td>vocal</td>\n",
       "      <td>4</td>\n",
       "    </tr>\n",
       "    <tr>\n",
       "      <th>2</th>\n",
       "      <td>2</td>\n",
       "      <td>f</td>\n",
       "      <td>consonante</td>\n",
       "      <td>5</td>\n",
       "    </tr>\n",
       "    <tr>\n",
       "      <th>3</th>\n",
       "      <td>3</td>\n",
       "      <td>g</td>\n",
       "      <td>consonante</td>\n",
       "      <td>6</td>\n",
       "    </tr>\n",
       "  </tbody>\n",
       "</table>\n",
       "</div>"
      ],
      "text/plain": [
       "   Unnamed: 0 letras_b      tipo_b  numeros_b\n",
       "0           0        d  consonante          3\n",
       "1           1        e       vocal          4\n",
       "2           2        f  consonante          5\n",
       "3           3        g  consonante          6"
      ]
     },
     "execution_count": 4,
     "metadata": {},
     "output_type": "execute_result"
    }
   ],
   "source": [
    "df = ds.load()\n",
    "df"
   ]
  }
 ],
 "metadata": {
  "interpreter": {
   "hash": "477c64429a66b88dbea596d2fd7dadb0d3a75c4333ee684689ddf8e8bb5bf8be"
  },
  "kernelspec": {
   "display_name": "Python 3.8.5 64-bit ('base': conda)",
   "name": "python3"
  },
  "language_info": {
   "codemirror_mode": {
    "name": "ipython",
    "version": 3
   },
   "file_extension": ".py",
   "mimetype": "text/x-python",
   "name": "python",
   "nbconvert_exporter": "python",
   "pygments_lexer": "ipython3",
   "version": "3.8.5"
  },
  "orig_nbformat": 4
 },
 "nbformat": 4,
 "nbformat_minor": 2
}
