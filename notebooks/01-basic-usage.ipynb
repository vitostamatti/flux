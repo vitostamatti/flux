{
 "cells": [
  {
   "cell_type": "markdown",
   "metadata": {},
   "source": [
    "# Basic Usage of Flux\n",
    "\n"
   ]
  },
  {
   "cell_type": "markdown",
   "metadata": {},
   "source": [
    "## Introduction"
   ]
  },
  {
   "cell_type": "code",
   "execution_count": 1,
   "metadata": {},
   "outputs": [],
   "source": [
    "from flux import Flux\n",
    "from flux import MemoryDataset"
   ]
  },
  {
   "cell_type": "code",
   "execution_count": 2,
   "metadata": {},
   "outputs": [],
   "source": [
    "flux = Flux()"
   ]
  },
  {
   "cell_type": "markdown",
   "metadata": {},
   "source": [
    "### Adding Datasets\n",
    "\n",
    "The most fundamental dataset is the MemoryDataset. This object is just a\n",
    "wrapper of python objects. You can save any object inside and it will be \n",
    "save in memory.\n",
    "\n",
    "To view all datasets in current the current Flux, you can access the catalog\n",
    "property."
   ]
  },
  {
   "cell_type": "code",
   "execution_count": 3,
   "metadata": {},
   "outputs": [],
   "source": [
    "from flux import MemoryDataset\n",
    "\n",
    "input_ds = MemoryDataset(data=1, description='input data')\n",
    "\n",
    "flux.add_dataset(name='input', dataset=input_ds)"
   ]
  },
  {
   "cell_type": "code",
   "execution_count": 4,
   "metadata": {},
   "outputs": [
    {
     "data": {
      "text/plain": [
       "{'input': MemoryDataset(description='input data', _data='1')}"
      ]
     },
     "execution_count": 4,
     "metadata": {},
     "output_type": "execute_result"
    }
   ],
   "source": [
    "flux.catalog"
   ]
  },
  {
   "cell_type": "markdown",
   "metadata": {},
   "source": [
    "### Adding Nodes\n",
    "\n",
    "Adding nodes is as simple as passing a python function, its inputs and its expected outputs.\n",
    "\n",
    "The inputs are required to be available in the flux catalog in order for the node to excecute succesfully.\n",
    "\n",
    "On the other hand, outputs are created dinamically as MemoryDatasets if they are not in the catalog.\n",
    "\n",
    "\n",
    "To view all nodes inside the curren flux object you can access the pipeline property."
   ]
  },
  {
   "cell_type": "code",
   "execution_count": 5,
   "metadata": {},
   "outputs": [],
   "source": [
    "def add_number(input, number=0):\n",
    "    return input+number\n",
    "\n",
    "flux.add_node(\n",
    "    func=add_number,\n",
    "    inputs='input',\n",
    "    outputs='sum_output',\n",
    "    func_kwargs={\"number\":10}\n",
    ")\n",
    "\n",
    "def multiply_number(input, number=1):\n",
    "    return input*number\n",
    "\n",
    "flux.add_node(\n",
    "    func=multiply_number,\n",
    "    inputs='sum_output',\n",
    "    outputs='output',\n",
    "    func_kwargs={\"number\":2}\n",
    ")"
   ]
  },
  {
   "cell_type": "code",
   "execution_count": 6,
   "metadata": {},
   "outputs": [
    {
     "data": {
      "text/plain": [
       "Pipeline \n",
       " - Node: add_number([input]) -> [sum_output]\n",
       "- Node: multiply_number([sum_output]) -> [output]"
      ]
     },
     "execution_count": 6,
     "metadata": {},
     "output_type": "execute_result"
    }
   ],
   "source": [
    "flux.pipeline"
   ]
  },
  {
   "cell_type": "markdown",
   "metadata": {},
   "source": [
    "### Running Flux"
   ]
  },
  {
   "cell_type": "code",
   "execution_count": 7,
   "metadata": {},
   "outputs": [],
   "source": [
    "flux.run()"
   ]
  },
  {
   "cell_type": "code",
   "execution_count": 8,
   "metadata": {},
   "outputs": [
    {
     "data": {
      "text/plain": [
       "{'input': MemoryDataset(description='input data', _data='1'),\n",
       " 'output': MemoryDataset(_data='22')}"
      ]
     },
     "execution_count": 8,
     "metadata": {},
     "output_type": "execute_result"
    }
   ],
   "source": [
    "flux.catalog"
   ]
  },
  {
   "cell_type": "markdown",
   "metadata": {},
   "source": [
    "### Accessing Results"
   ]
  },
  {
   "cell_type": "code",
   "execution_count": 9,
   "metadata": {},
   "outputs": [
    {
     "data": {
      "text/plain": [
       "22"
      ]
     },
     "execution_count": 9,
     "metadata": {},
     "output_type": "execute_result"
    }
   ],
   "source": [
    "flux.load_dataset(name='output')"
   ]
  },
  {
   "cell_type": "markdown",
   "metadata": {},
   "source": [
    "### Saving Flux"
   ]
  },
  {
   "cell_type": "code",
   "execution_count": 10,
   "metadata": {},
   "outputs": [],
   "source": [
    "flux.save('../data/basic_flux')"
   ]
  },
  {
   "cell_type": "markdown",
   "metadata": {},
   "source": [
    "### Loading Flux"
   ]
  },
  {
   "cell_type": "code",
   "execution_count": 11,
   "metadata": {},
   "outputs": [],
   "source": [
    "new_flux = Flux()\n",
    "new_flux.load('../data/basic_flux.pkl')"
   ]
  },
  {
   "cell_type": "code",
   "execution_count": 12,
   "metadata": {},
   "outputs": [
    {
     "data": {
      "text/plain": [
       "{}"
      ]
     },
     "execution_count": 12,
     "metadata": {},
     "output_type": "execute_result"
    }
   ],
   "source": [
    "new_flux.catalog"
   ]
  },
  {
   "cell_type": "code",
   "execution_count": 13,
   "metadata": {},
   "outputs": [
    {
     "data": {
      "text/plain": [
       "Pipeline \n",
       " - Node: add_number([input]) -> [sum_output]\n",
       "- Node: multiply_number([sum_output]) -> [output]"
      ]
     },
     "execution_count": 13,
     "metadata": {},
     "output_type": "execute_result"
    }
   ],
   "source": [
    "new_flux.pipeline"
   ]
  },
  {
   "cell_type": "code",
   "execution_count": 14,
   "metadata": {},
   "outputs": [],
   "source": [
    "# Adding new dataset in order to run flux\n",
    "new_flux.add_dataset(\n",
    "    name='input',\n",
    "    dataset=MemoryDataset(data=2)\n",
    ")"
   ]
  },
  {
   "cell_type": "code",
   "execution_count": 15,
   "metadata": {},
   "outputs": [],
   "source": [
    "new_flux.run()"
   ]
  },
  {
   "cell_type": "markdown",
   "metadata": {},
   "source": [
    "### Overriding Datasets\n",
    "\n",
    "You dont necessary need to create new datasets for each node if your data\n",
    "is temporary and will be change y further steps."
   ]
  },
  {
   "cell_type": "code",
   "execution_count": 16,
   "metadata": {},
   "outputs": [],
   "source": [
    "flux = Flux()\n",
    "\n",
    "input_ds = MemoryDataset(data=1, description='input data')\n",
    "\n",
    "flux.add_dataset(name='input',dataset=input_ds)\n",
    "\n",
    "def add_number(input, number=0):\n",
    "    return input+number\n",
    "\n",
    "flux.add_node(\n",
    "    name='add_number',\n",
    "    func=add_number,\n",
    "    inputs='input',\n",
    "    outputs='interim',\n",
    "    func_kwargs={\"number\":10}\n",
    ")\n",
    "\n",
    "def multiply_number(input, number=1):\n",
    "    return input*number\n",
    "\n",
    "flux.add_node(\n",
    "    name='multiply_number',\n",
    "    func=multiply_number,\n",
    "    inputs='interim', \n",
    "    outputs='interim', # this overrides the output of add_number node.\n",
    "    func_kwargs={\"number\":2}\n",
    ")\n",
    "\n",
    "flux.add_node(\n",
    "    name='add_number_2',\n",
    "    func=add_number,\n",
    "    inputs='interim',\n",
    "    outputs='output',\n",
    "    func_kwargs={\"number\":2}\n",
    ")"
   ]
  },
  {
   "cell_type": "code",
   "execution_count": 17,
   "metadata": {},
   "outputs": [],
   "source": [
    "flux()"
   ]
  },
  {
   "cell_type": "code",
   "execution_count": null,
   "metadata": {},
   "outputs": [],
   "source": []
  }
 ],
 "metadata": {
  "kernelspec": {
   "display_name": "Python 3.8.5 ('venv': venv)",
   "language": "python",
   "name": "python3"
  },
  "language_info": {
   "codemirror_mode": {
    "name": "ipython",
    "version": 3
   },
   "file_extension": ".py",
   "mimetype": "text/x-python",
   "name": "python",
   "nbconvert_exporter": "python",
   "pygments_lexer": "ipython3",
   "version": "3.8.5"
  },
  "orig_nbformat": 4,
  "vscode": {
   "interpreter": {
    "hash": "79ca0e4158c23dff0a706beef246f7bebfcf8a24b6d5d2a00c6cc13b45b3bff0"
   }
  }
 },
 "nbformat": 4,
 "nbformat_minor": 2
}
